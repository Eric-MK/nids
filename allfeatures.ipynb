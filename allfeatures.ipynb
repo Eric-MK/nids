{
 "cells": [
  {
   "cell_type": "code",
   "execution_count": 1,
   "metadata": {},
   "outputs": [],
   "source": [
    "import pandas as pd\n",
    "\n",
    "import numpy as np \n",
    "\n",
    "import matplotlib.pyplot as plt  \n",
    "\n",
    "import seaborn as sns"
   ]
  },
  {
   "cell_type": "code",
   "execution_count": 2,
   "metadata": {},
   "outputs": [
    {
     "name": "stderr",
     "output_type": "stream",
     "text": [
      "C:\\Users\\Eric\\AppData\\Local\\Temp\\ipykernel_20936\\3503835977.py:3: DtypeWarning: Columns (85) have mixed types. Specify dtype option on import or set low_memory=False.\n",
      "  data = pd.read_csv(file_path)\n"
     ]
    },
    {
     "data": {
      "text/html": [
       "<div>\n",
       "<style scoped>\n",
       "    .dataframe tbody tr th:only-of-type {\n",
       "        vertical-align: middle;\n",
       "    }\n",
       "\n",
       "    .dataframe tbody tr th {\n",
       "        vertical-align: top;\n",
       "    }\n",
       "\n",
       "    .dataframe thead th {\n",
       "        text-align: right;\n",
       "    }\n",
       "</style>\n",
       "<table border=\"1\" class=\"dataframe\">\n",
       "  <thead>\n",
       "    <tr style=\"text-align: right;\">\n",
       "      <th></th>\n",
       "      <th>Unnamed: 0</th>\n",
       "      <th>Flow ID</th>\n",
       "      <th>Source IP</th>\n",
       "      <th>Source Port</th>\n",
       "      <th>Destination IP</th>\n",
       "      <th>Destination Port</th>\n",
       "      <th>Protocol</th>\n",
       "      <th>Timestamp</th>\n",
       "      <th>Flow Duration</th>\n",
       "      <th>Total Fwd Packets</th>\n",
       "      <th>...</th>\n",
       "      <th>Active Std</th>\n",
       "      <th>Active Max</th>\n",
       "      <th>Active Min</th>\n",
       "      <th>Idle Mean</th>\n",
       "      <th>Idle Std</th>\n",
       "      <th>Idle Max</th>\n",
       "      <th>Idle Min</th>\n",
       "      <th>SimillarHTTP</th>\n",
       "      <th>Inbound</th>\n",
       "      <th>Label</th>\n",
       "    </tr>\n",
       "  </thead>\n",
       "  <tbody>\n",
       "    <tr>\n",
       "      <th>0</th>\n",
       "      <td>32452</td>\n",
       "      <td>172.16.0.5-192.168.50.1-1011-30217-17</td>\n",
       "      <td>172.16.0.5</td>\n",
       "      <td>1011</td>\n",
       "      <td>192.168.50.1</td>\n",
       "      <td>30217</td>\n",
       "      <td>17</td>\n",
       "      <td>2018-12-01 11:24:50.037167</td>\n",
       "      <td>1</td>\n",
       "      <td>2</td>\n",
       "      <td>...</td>\n",
       "      <td>0.0</td>\n",
       "      <td>0.0</td>\n",
       "      <td>0.0</td>\n",
       "      <td>0.0</td>\n",
       "      <td>0.0</td>\n",
       "      <td>0.0</td>\n",
       "      <td>0.0</td>\n",
       "      <td>0</td>\n",
       "      <td>1</td>\n",
       "      <td>DrDoS_LDAP</td>\n",
       "    </tr>\n",
       "    <tr>\n",
       "      <th>1</th>\n",
       "      <td>41836</td>\n",
       "      <td>172.16.0.5-192.168.50.1-572-60094-17</td>\n",
       "      <td>172.16.0.5</td>\n",
       "      <td>572</td>\n",
       "      <td>192.168.50.1</td>\n",
       "      <td>60094</td>\n",
       "      <td>17</td>\n",
       "      <td>2018-12-01 12:14:22.545861</td>\n",
       "      <td>2</td>\n",
       "      <td>2</td>\n",
       "      <td>...</td>\n",
       "      <td>0.0</td>\n",
       "      <td>0.0</td>\n",
       "      <td>0.0</td>\n",
       "      <td>0.0</td>\n",
       "      <td>0.0</td>\n",
       "      <td>0.0</td>\n",
       "      <td>0.0</td>\n",
       "      <td>0</td>\n",
       "      <td>1</td>\n",
       "      <td>DrDoS_SNMP</td>\n",
       "    </tr>\n",
       "    <tr>\n",
       "      <th>2</th>\n",
       "      <td>2695</td>\n",
       "      <td>172.16.0.5-192.168.50.1-676-43803-17</td>\n",
       "      <td>172.16.0.5</td>\n",
       "      <td>676</td>\n",
       "      <td>192.168.50.1</td>\n",
       "      <td>43803</td>\n",
       "      <td>17</td>\n",
       "      <td>2018-12-01 10:38:56.749612</td>\n",
       "      <td>203</td>\n",
       "      <td>52</td>\n",
       "      <td>...</td>\n",
       "      <td>0.0</td>\n",
       "      <td>0.0</td>\n",
       "      <td>0.0</td>\n",
       "      <td>0.0</td>\n",
       "      <td>0.0</td>\n",
       "      <td>0.0</td>\n",
       "      <td>0.0</td>\n",
       "      <td>0</td>\n",
       "      <td>1</td>\n",
       "      <td>DrDoS_NTP</td>\n",
       "    </tr>\n",
       "    <tr>\n",
       "      <th>3</th>\n",
       "      <td>103799</td>\n",
       "      <td>172.16.0.5-192.168.50.1-62478-10715-17</td>\n",
       "      <td>172.16.0.5</td>\n",
       "      <td>62478</td>\n",
       "      <td>192.168.50.1</td>\n",
       "      <td>10715</td>\n",
       "      <td>17</td>\n",
       "      <td>2018-12-01 13:49:26.909740</td>\n",
       "      <td>0</td>\n",
       "      <td>2</td>\n",
       "      <td>...</td>\n",
       "      <td>0.0</td>\n",
       "      <td>0.0</td>\n",
       "      <td>0.0</td>\n",
       "      <td>0.0</td>\n",
       "      <td>0.0</td>\n",
       "      <td>0.0</td>\n",
       "      <td>0.0</td>\n",
       "      <td>0</td>\n",
       "      <td>1</td>\n",
       "      <td>TFTP</td>\n",
       "    </tr>\n",
       "    <tr>\n",
       "      <th>4</th>\n",
       "      <td>121183</td>\n",
       "      <td>172.16.0.5-192.168.50.1-35561-29716-17</td>\n",
       "      <td>172.16.0.5</td>\n",
       "      <td>35561</td>\n",
       "      <td>192.168.50.1</td>\n",
       "      <td>29716</td>\n",
       "      <td>17</td>\n",
       "      <td>2018-12-01 13:04:38.438546</td>\n",
       "      <td>104757</td>\n",
       "      <td>4</td>\n",
       "      <td>...</td>\n",
       "      <td>0.0</td>\n",
       "      <td>0.0</td>\n",
       "      <td>0.0</td>\n",
       "      <td>0.0</td>\n",
       "      <td>0.0</td>\n",
       "      <td>0.0</td>\n",
       "      <td>0.0</td>\n",
       "      <td>0</td>\n",
       "      <td>1</td>\n",
       "      <td>DrDoS_UDP</td>\n",
       "    </tr>\n",
       "  </tbody>\n",
       "</table>\n",
       "<p>5 rows × 88 columns</p>\n",
       "</div>"
      ],
      "text/plain": [
       "   Unnamed: 0                                 Flow ID   Source IP  \\\n",
       "0       32452   172.16.0.5-192.168.50.1-1011-30217-17  172.16.0.5   \n",
       "1       41836    172.16.0.5-192.168.50.1-572-60094-17  172.16.0.5   \n",
       "2        2695    172.16.0.5-192.168.50.1-676-43803-17  172.16.0.5   \n",
       "3      103799  172.16.0.5-192.168.50.1-62478-10715-17  172.16.0.5   \n",
       "4      121183  172.16.0.5-192.168.50.1-35561-29716-17  172.16.0.5   \n",
       "\n",
       "    Source Port  Destination IP   Destination Port   Protocol  \\\n",
       "0          1011    192.168.50.1              30217         17   \n",
       "1           572    192.168.50.1              60094         17   \n",
       "2           676    192.168.50.1              43803         17   \n",
       "3         62478    192.168.50.1              10715         17   \n",
       "4         35561    192.168.50.1              29716         17   \n",
       "\n",
       "                    Timestamp   Flow Duration   Total Fwd Packets  ...  \\\n",
       "0  2018-12-01 11:24:50.037167               1                   2  ...   \n",
       "1  2018-12-01 12:14:22.545861               2                   2  ...   \n",
       "2  2018-12-01 10:38:56.749612             203                  52  ...   \n",
       "3  2018-12-01 13:49:26.909740               0                   2  ...   \n",
       "4  2018-12-01 13:04:38.438546          104757                   4  ...   \n",
       "\n",
       "    Active Std   Active Max   Active Min  Idle Mean   Idle Std   Idle Max  \\\n",
       "0          0.0          0.0          0.0        0.0        0.0        0.0   \n",
       "1          0.0          0.0          0.0        0.0        0.0        0.0   \n",
       "2          0.0          0.0          0.0        0.0        0.0        0.0   \n",
       "3          0.0          0.0          0.0        0.0        0.0        0.0   \n",
       "4          0.0          0.0          0.0        0.0        0.0        0.0   \n",
       "\n",
       "    Idle Min  SimillarHTTP   Inbound       Label  \n",
       "0        0.0             0         1  DrDoS_LDAP  \n",
       "1        0.0             0         1  DrDoS_SNMP  \n",
       "2        0.0             0         1   DrDoS_NTP  \n",
       "3        0.0             0         1        TFTP  \n",
       "4        0.0             0         1   DrDoS_UDP  \n",
       "\n",
       "[5 rows x 88 columns]"
      ]
     },
     "execution_count": 2,
     "metadata": {},
     "output_type": "execute_result"
    }
   ],
   "source": [
    "file_path = (\"data/processed/ddos_train_data.csv\")\n",
    "\n",
    "data = pd.read_csv(file_path)\n",
    "\n",
    "data.head()"
   ]
  },
  {
   "cell_type": "code",
   "execution_count": 3,
   "metadata": {},
   "outputs": [],
   "source": [
    "data.columns = data.columns.str.strip()"
   ]
  },
  {
   "cell_type": "code",
   "execution_count": 4,
   "metadata": {},
   "outputs": [
    {
     "name": "stdout",
     "output_type": "stream",
     "text": [
      "Columns with null values:\n",
      "Flow Bytes/s    65812\n",
      "dtype: int64\n",
      "\n",
      "Total number of null values: 65812\n",
      "\n",
      "Percentage of null values in each column:\n",
      "Flow Bytes/s    1.940387\n",
      "dtype: float64\n",
      "\n",
      "Rows removed: 65812\n",
      "Percentage of data removed: 1.94%\n",
      "\n",
      "Shape of dataframe after removing null values: (3325882, 88)\n",
      "\n",
      "First few rows of the cleaned dataframe:\n",
      "   Unnamed: 0                                 Flow ID   Source IP  \\\n",
      "0       32452   172.16.0.5-192.168.50.1-1011-30217-17  172.16.0.5   \n",
      "1       41836    172.16.0.5-192.168.50.1-572-60094-17  172.16.0.5   \n",
      "2        2695    172.16.0.5-192.168.50.1-676-43803-17  172.16.0.5   \n",
      "3      103799  172.16.0.5-192.168.50.1-62478-10715-17  172.16.0.5   \n",
      "4      121183  172.16.0.5-192.168.50.1-35561-29716-17  172.16.0.5   \n",
      "\n",
      "   Source Port Destination IP  Destination Port  Protocol  \\\n",
      "0         1011   192.168.50.1             30217        17   \n",
      "1          572   192.168.50.1             60094        17   \n",
      "2          676   192.168.50.1             43803        17   \n",
      "3        62478   192.168.50.1             10715        17   \n",
      "4        35561   192.168.50.1             29716        17   \n",
      "\n",
      "                    Timestamp  Flow Duration  Total Fwd Packets  ...  \\\n",
      "0  2018-12-01 11:24:50.037167              1                  2  ...   \n",
      "1  2018-12-01 12:14:22.545861              2                  2  ...   \n",
      "2  2018-12-01 10:38:56.749612            203                 52  ...   \n",
      "3  2018-12-01 13:49:26.909740              0                  2  ...   \n",
      "4  2018-12-01 13:04:38.438546         104757                  4  ...   \n",
      "\n",
      "   Active Std  Active Max  Active Min  Idle Mean  Idle Std  Idle Max  \\\n",
      "0         0.0         0.0         0.0        0.0       0.0       0.0   \n",
      "1         0.0         0.0         0.0        0.0       0.0       0.0   \n",
      "2         0.0         0.0         0.0        0.0       0.0       0.0   \n",
      "3         0.0         0.0         0.0        0.0       0.0       0.0   \n",
      "4         0.0         0.0         0.0        0.0       0.0       0.0   \n",
      "\n",
      "   Idle Min  SimillarHTTP  Inbound       Label  \n",
      "0       0.0             0        1  DrDoS_LDAP  \n",
      "1       0.0             0        1  DrDoS_SNMP  \n",
      "2       0.0             0        1   DrDoS_NTP  \n",
      "3       0.0             0        1        TFTP  \n",
      "4       0.0             0        1   DrDoS_UDP  \n",
      "\n",
      "[5 rows x 88 columns]\n",
      "\n",
      "Verifying null values after cleaning:\n",
      "0\n"
     ]
    }
   ],
   "source": [
    "import pandas as pd\n",
    "import numpy as np\n",
    "\n",
    "# Assuming your dataframe is named 'data'\n",
    "\n",
    "# Check for null values\n",
    "null_counts = data.isnull().sum()\n",
    "total_null = null_counts.sum()\n",
    "\n",
    "print(\"Columns with null values:\")\n",
    "print(null_counts[null_counts > 0])\n",
    "print(f\"\\nTotal number of null values: {total_null}\")\n",
    "\n",
    "# Calculate percentage of null values\n",
    "null_percentage = (null_counts / len(data)) * 100\n",
    "\n",
    "print(\"\\nPercentage of null values in each column:\")\n",
    "print(null_percentage[null_percentage > 0])\n",
    "\n",
    "# Remove rows with null values\n",
    "data_cleaned = data.dropna()\n",
    "\n",
    "# Print information about the cleaning process\n",
    "rows_removed = len(data) - len(data_cleaned)\n",
    "print(f\"\\nRows removed: {rows_removed}\")\n",
    "print(f\"Percentage of data removed: {(rows_removed / len(data)) * 100:.2f}%\")\n",
    "\n",
    "# Update the original dataframe\n",
    "data = data_cleaned\n",
    "\n",
    "print(f\"\\nShape of dataframe after removing null values: {data.shape}\")\n",
    "\n",
    "# Display the first few rows of the cleaned dataframe\n",
    "print(\"\\nFirst few rows of the cleaned dataframe:\")\n",
    "print(data.head())\n",
    "\n",
    "# Verify that there are no more null values\n",
    "print(\"\\nVerifying null values after cleaning:\")\n",
    "print(data.isnull().sum().sum())"
   ]
  },
  {
   "cell_type": "code",
   "execution_count": 5,
   "metadata": {},
   "outputs": [],
   "source": [
    "features_to_remove = [\n",
    "    'Unnamed: 0',  # This seems to be an index column\n",
    "    'Flow ID',     # Unique identifier, not useful for prediction\n",
    "    'Source IP',   # Specific network identifiers, not generalizable\n",
    "    'Destination IP',\n",
    "    'Timestamp',   # Time-specific information, may not be generalizable\n",
    "    'SimillarHTTP', # Possibly misspelled, unclear relevance\n",
    "    'Source Port'\n",
    "]\n",
    "\n",
    "data = data.drop(columns=features_to_remove)"
   ]
  },
  {
   "cell_type": "code",
   "execution_count": 6,
   "metadata": {},
   "outputs": [
    {
     "name": "stdout",
     "output_type": "stream",
     "text": [
      "BinaryLabel\n",
      "1    0.982044\n",
      "0    0.017956\n",
      "Name: proportion, dtype: float64\n"
     ]
    }
   ],
   "source": [
    "# Create binary labels\n",
    "data['BinaryLabel'] = (data['Label'] != 'BENIGN').astype(int)\n",
    "\n",
    "# Print the distribution\n",
    "print(data['BinaryLabel'].value_counts(normalize=True))"
   ]
  },
  {
   "cell_type": "code",
   "execution_count": 7,
   "metadata": {},
   "outputs": [
    {
     "name": "stdout",
     "output_type": "stream",
     "text": [
      "Original shape: (3325882, 82)\n",
      "Shape after removing NaN and infinity rows: (3266402, 82)\n"
     ]
    }
   ],
   "source": [
    "# Remove rows with NaN or infinity values\n",
    "data_cleaned = data.replace([np.inf, -np.inf], np.nan).dropna()\n",
    "\n",
    "print(f\"Original shape: {data.shape}\")\n",
    "print(f\"Shape after removing NaN and infinity rows: {data_cleaned.shape}\")"
   ]
  },
  {
   "cell_type": "code",
   "execution_count": 8,
   "metadata": {},
   "outputs": [
    {
     "name": "stdout",
     "output_type": "stream",
     "text": [
      "Columns removed (containing only zeros): ['Bwd PSH Flags', 'Fwd URG Flags', 'Bwd URG Flags', 'FIN Flag Count', 'PSH Flag Count', 'ECE Flag Count', 'Fwd Avg Bytes/Bulk', 'Fwd Avg Packets/Bulk', 'Fwd Avg Bulk Rate', 'Bwd Avg Bytes/Bulk', 'Bwd Avg Packets/Bulk', 'Bwd Avg Bulk Rate']\n",
      "Shape after removing zero columns: (3266402, 70)\n"
     ]
    }
   ],
   "source": [
    "# Identify columns with only zeros\n",
    "zero_columns = data_cleaned.columns[(data_cleaned == 0).all()].tolist()\n",
    "\n",
    "# Remove these columns\n",
    "data_cleaned = data_cleaned.drop(columns=zero_columns)\n",
    "\n",
    "print(f\"Columns removed (containing only zeros): {zero_columns}\")\n",
    "print(f\"Shape after removing zero columns: {data_cleaned.shape}\")"
   ]
  },
  {
   "cell_type": "code",
   "execution_count": 9,
   "metadata": {},
   "outputs": [
    {
     "name": "stdout",
     "output_type": "stream",
     "text": [
      "\n",
      "Selected features: ['Flow Packets/s', 'Fwd Packets/s', 'Max Packet Length', 'Packet Length Mean', 'Fwd Packet Length Mean', 'Avg Fwd Segment Size', 'Average Packet Size', 'Fwd Packet Length Max', 'Inbound', 'Protocol', 'Fwd Packet Length Min', 'Min Packet Length', 'Flow Bytes/s', 'Destination Port', 'Init_Win_bytes_forward', 'Total Length of Fwd Packets', 'Subflow Fwd Bytes', 'Bwd Packets/s', 'Flow IAT Mean', 'Flow IAT Max', 'Flow IAT Std', 'Flow Duration', 'Packet Length Std', 'Packet Length Variance', 'Bwd IAT Max', 'Bwd IAT Total', 'Bwd IAT Mean', 'Bwd Header Length', 'Total Backward Packets', 'Subflow Bwd Packets', 'BinaryLabel']\n",
      "Selected features saved successfully.\n",
      "Feature importance scores saved to CSV.\n"
     ]
    }
   ],
   "source": [
    "from sklearn.feature_selection import mutual_info_classif\n",
    "import pandas as pd\n",
    "import joblib\n",
    "\n",
    "# Prepare features and target\n",
    "X = data_cleaned.drop(['Label', 'BinaryLabel'], axis=1)\n",
    "y_binary = data_cleaned['BinaryLabel']\n",
    "\n",
    "# Calculate mutual information\n",
    "mi_scores = mutual_info_classif(X, y_binary)\n",
    "\n",
    "# Create a dataframe of features and their mutual information scores\n",
    "mi_df = pd.DataFrame({'feature': X.columns, 'mi_score': mi_scores})\n",
    "mi_df = mi_df.sort_values('mi_score', ascending=False)\n",
    "\n",
    "# Select top 30 features (you can adjust this number)\n",
    "top_features = mi_df['feature'][:40].tolist()\n",
    "\n",
    "# Create a new dataframe with selected features and binary label\n",
    "selected_features = top_features + ['BinaryLabel']\n",
    "data_selected = data_cleaned[selected_features]\n",
    "\n",
    "print(\"\\nSelected features:\", selected_features)\n",
    "\n",
    "# Save the selected features\n",
    "joblib.dump(selected_features, 'selected_features.joblib')\n",
    "print(\"Selected features saved successfully.\")\n",
    "\n",
    "# Optionally, you can also save the mutual information scores\n",
    "mi_df.to_csv('feature_importance.csv', index=False)\n",
    "print(\"Feature importance scores saved to CSV.\")"
   ]
  },
  {
   "cell_type": "code",
   "execution_count": 10,
   "metadata": {},
   "outputs": [],
   "source": [
    "from sklearn.preprocessing import StandardScaler\n",
    "import joblib\n",
    "\n",
    "# Separate features and target\n",
    "X = data_selected.drop('BinaryLabel', axis=1)\n",
    "y = data_selected['BinaryLabel']\n",
    "\n",
    "# Scale the features\n",
    "scaler = StandardScaler()\n",
    "X_scaled = scaler.fit_transform(X)\n",
    "\n",
    "# Create a new dataframe with scaled features\n",
    "X_scaled_df = pd.DataFrame(X_scaled, columns=X.columns)"
   ]
  },
  {
   "cell_type": "code",
   "execution_count": 11,
   "metadata": {},
   "outputs": [
    {
     "name": "stdout",
     "output_type": "stream",
     "text": [
      "Scaler saved successfully.\n"
     ]
    }
   ],
   "source": [
    "# Save the scaler\n",
    "joblib.dump(scaler, 'ascaler.joblib')\n",
    "print(\"Scaler saved successfully.\")"
   ]
  },
  {
   "cell_type": "code",
   "execution_count": 12,
   "metadata": {},
   "outputs": [
    {
     "name": "stdout",
     "output_type": "stream",
     "text": [
      "\n",
      "Data split sizes:\n",
      "Training set: (2613121, 30)\n",
      "Testing set: (653281, 30)\n"
     ]
    }
   ],
   "source": [
    "from sklearn.model_selection import train_test_split\n",
    "\n",
    "# Split the dataset into training and testing sets\n",
    "X_train, X_test, y_train, y_test = train_test_split(\n",
    "    X_scaled_df, y, test_size=0.2, stratify=y, random_state=42\n",
    ")\n",
    "\n",
    "print(\"\\nData split sizes:\")\n",
    "print(f\"Training set: {X_train.shape}\")\n",
    "print(f\"Testing set: {X_test.shape}\")\n"
   ]
  },
  {
   "cell_type": "code",
   "execution_count": 13,
   "metadata": {},
   "outputs": [
    {
     "name": "stdout",
     "output_type": "stream",
     "text": [
      "WARNING:tensorflow:From c:\\Users\\Eric\\anaconda3\\envs\\notebook_env\\Lib\\site-packages\\keras\\src\\losses.py:2976: The name tf.losses.sparse_softmax_cross_entropy is deprecated. Please use tf.compat.v1.losses.sparse_softmax_cross_entropy instead.\n",
      "\n"
     ]
    }
   ],
   "source": [
    "import numpy as np\n",
    "import pandas as pd\n",
    "from sklearn.model_selection import train_test_split\n",
    "from sklearn.preprocessing import StandardScaler\n",
    "from tensorflow.keras.models import Sequential\n",
    "from tensorflow.keras.layers import LSTM, Dense, Dropout\n",
    "from tensorflow.keras.optimizers import Adam\n",
    "from tensorflow.keras.callbacks import EarlyStopping"
   ]
  },
  {
   "cell_type": "code",
   "execution_count": 14,
   "metadata": {},
   "outputs": [
    {
     "name": "stdout",
     "output_type": "stream",
     "text": [
      "Training data shape: (2613121, 1, 30)\n",
      "Testing data shape: (653281, 1, 30)\n"
     ]
    }
   ],
   "source": [
    "# Reshape input to be 3D [samples, time steps, features] for LSTM\n",
    "X_train = X_train.values.reshape((X_train.shape[0], 1, X_train.shape[1]))\n",
    "X_test = X_test.values.reshape((X_test.shape[0], 1, X_test.shape[1]))\n",
    "\n",
    "print(\"Training data shape:\", X_train.shape)\n",
    "print(\"Testing data shape:\", X_test.shape)"
   ]
  },
  {
   "cell_type": "code",
   "execution_count": 15,
   "metadata": {},
   "outputs": [
    {
     "name": "stdout",
     "output_type": "stream",
     "text": [
      "WARNING:tensorflow:From c:\\Users\\Eric\\anaconda3\\envs\\notebook_env\\Lib\\site-packages\\keras\\src\\backend.py:1398: The name tf.executing_eagerly_outside_functions is deprecated. Please use tf.compat.v1.executing_eagerly_outside_functions instead.\n",
      "\n",
      "WARNING:tensorflow:From c:\\Users\\Eric\\anaconda3\\envs\\notebook_env\\Lib\\site-packages\\keras\\src\\optimizers\\__init__.py:309: The name tf.train.Optimizer is deprecated. Please use tf.compat.v1.train.Optimizer instead.\n",
      "\n",
      "Epoch 1/10\n",
      "WARNING:tensorflow:From c:\\Users\\Eric\\anaconda3\\envs\\notebook_env\\Lib\\site-packages\\keras\\src\\utils\\tf_utils.py:492: The name tf.ragged.RaggedTensorValue is deprecated. Please use tf.compat.v1.ragged.RaggedTensorValue instead.\n",
      "\n",
      "65328/65328 [==============================] - 120s 2ms/step - loss: 0.4334 - val_loss: 0.4052\n",
      "Epoch 2/10\n",
      "65328/65328 [==============================] - 144s 2ms/step - loss: 0.4212 - val_loss: 0.2775\n",
      "Epoch 3/10\n",
      "65328/65328 [==============================] - 204s 3ms/step - loss: 0.3126 - val_loss: 0.3333\n",
      "Epoch 4/10\n",
      "65328/65328 [==============================] - 225s 3ms/step - loss: 0.3044 - val_loss: 0.3291\n",
      "Epoch 5/10\n",
      "65328/65328 [==============================] - 273s 4ms/step - loss: 0.3478 - val_loss: 0.2732\n",
      "Epoch 6/10\n",
      "65328/65328 [==============================] - 224s 3ms/step - loss: 0.2953 - val_loss: 0.2737\n",
      "Epoch 7/10\n",
      "65328/65328 [==============================] - 136s 2ms/step - loss: 0.2741 - val_loss: 0.2561\n",
      "Epoch 8/10\n",
      "65328/65328 [==============================] - 141s 2ms/step - loss: 0.2796 - val_loss: 0.3013\n",
      "Epoch 9/10\n",
      "65328/65328 [==============================] - 141s 2ms/step - loss: 0.2966 - val_loss: 0.3004\n",
      "Epoch 10/10\n",
      "65328/65328 [==============================] - 139s 2ms/step - loss: 0.3025 - val_loss: 0.3217\n",
      "Autoencoder trained successfully.\n"
     ]
    }
   ],
   "source": [
    "import numpy as np\n",
    "from tensorflow.keras.models import Model\n",
    "from tensorflow.keras.layers import Input, Dense, LSTM, RepeatVector\n",
    "from tensorflow.keras.callbacks import EarlyStopping\n",
    "\n",
    "# Assuming X_train is your training data\n",
    "input_dim = X_train.shape[2]  # number of features\n",
    "timesteps = X_train.shape[1]  # number of timesteps\n",
    "\n",
    "# Define the autoencoder model\n",
    "input_layer = Input(shape=(timesteps, input_dim))\n",
    "encoded = LSTM(64, activation='relu')(input_layer)\n",
    "decoded = RepeatVector(timesteps)(encoded)\n",
    "decoded = LSTM(input_dim, activation='relu', return_sequences=True)(decoded)\n",
    "\n",
    "autoencoder = Model(input_layer, decoded)\n",
    "autoencoder.compile(optimizer='adam', loss='mse')\n",
    "\n",
    "# Train the autoencoder\n",
    "early_stopping = EarlyStopping(monitor='val_loss', patience=3, mode='min')\n",
    "autoencoder.fit(X_train, X_train, \n",
    "                epochs=10, \n",
    "                batch_size=32, \n",
    "                validation_split=0.2, \n",
    "                callbacks=[early_stopping],\n",
    "                verbose=1)\n",
    "\n",
    "print(\"Autoencoder trained successfully.\")"
   ]
  },
  {
   "cell_type": "code",
   "execution_count": 16,
   "metadata": {},
   "outputs": [
    {
     "name": "stdout",
     "output_type": "stream",
     "text": [
      "81661/81661 [==============================] - 301s 4ms/step\n",
      "20416/20416 [==============================] - 80s 4ms/step\n",
      "Reconstruction errors calculated.\n"
     ]
    }
   ],
   "source": [
    "# Function to calculate reconstruction error\n",
    "def get_reconstruction_error(autoencoder, data):\n",
    "    predictions = autoencoder.predict(data)\n",
    "    mse = np.mean(np.power(data - predictions, 2), axis=(1,2))\n",
    "    return mse\n",
    "\n",
    "# Get reconstruction errors for training and test data\n",
    "train_errors = get_reconstruction_error(autoencoder, X_train)\n",
    "test_errors = get_reconstruction_error(autoencoder, X_test)\n",
    "\n",
    "print(\"Reconstruction errors calculated.\")"
   ]
  },
  {
   "cell_type": "code",
   "execution_count": 17,
   "metadata": {},
   "outputs": [
    {
     "name": "stdout",
     "output_type": "stream",
     "text": [
      "New feature (reconstruction error) added to the datasets.\n",
      "Shape of training data with new feature: (2613121, 31)\n",
      "Shape of test data with new feature: (653281, 31)\n"
     ]
    }
   ],
   "source": [
    "# Add reconstruction error as a new feature\n",
    "X_train_with_error = np.column_stack((X_train.reshape(X_train.shape[0], -1), train_errors))\n",
    "X_test_with_error = np.column_stack((X_test.reshape(X_test.shape[0], -1), test_errors))\n",
    "\n",
    "print(\"New feature (reconstruction error) added to the datasets.\")\n",
    "print(f\"Shape of training data with new feature: {X_train_with_error.shape}\")\n",
    "print(f\"Shape of test data with new feature: {X_test_with_error.shape}\")"
   ]
  },
  {
   "cell_type": "code",
   "execution_count": 18,
   "metadata": {},
   "outputs": [
    {
     "name": "stdout",
     "output_type": "stream",
     "text": [
      "Epoch 1/10\n",
      "WARNING:tensorflow:From c:\\Users\\Eric\\anaconda3\\envs\\notebook_env\\Lib\\site-packages\\keras\\src\\engine\\base_layer_utils.py:384: The name tf.executing_eagerly_outside_functions is deprecated. Please use tf.compat.v1.executing_eagerly_outside_functions instead.\n",
      "\n",
      "65328/65328 [==============================] - 2148s 33ms/step - loss: 0.0068 - accuracy: 0.9985 - val_loss: 0.0011 - val_accuracy: 0.9998\n",
      "Epoch 2/10\n",
      "38811/65328 [================>.............] - ETA: 12:15 - loss: 0.0011 - accuracy: 0.9998"
     ]
    },
    {
     "ename": "KeyboardInterrupt",
     "evalue": "",
     "output_type": "error",
     "traceback": [
      "\u001b[1;31m---------------------------------------------------------------------------\u001b[0m",
      "\u001b[1;31mKeyboardInterrupt\u001b[0m                         Traceback (most recent call last)",
      "Cell \u001b[1;32mIn[18], line 23\u001b[0m\n\u001b[0;32m     21\u001b[0m \u001b[38;5;66;03m# Train the model\u001b[39;00m\n\u001b[0;32m     22\u001b[0m early_stopping \u001b[38;5;241m=\u001b[39m EarlyStopping(monitor\u001b[38;5;241m=\u001b[39m\u001b[38;5;124m'\u001b[39m\u001b[38;5;124mval_loss\u001b[39m\u001b[38;5;124m'\u001b[39m, patience\u001b[38;5;241m=\u001b[39m\u001b[38;5;241m5\u001b[39m, mode\u001b[38;5;241m=\u001b[39m\u001b[38;5;124m'\u001b[39m\u001b[38;5;124mmin\u001b[39m\u001b[38;5;124m'\u001b[39m, restore_best_weights\u001b[38;5;241m=\u001b[39m\u001b[38;5;28;01mTrue\u001b[39;00m)\n\u001b[1;32m---> 23\u001b[0m history \u001b[38;5;241m=\u001b[39m rnn_model\u001b[38;5;241m.\u001b[39mfit(X_train_with_error\u001b[38;5;241m.\u001b[39mreshape(\u001b[38;5;241m-\u001b[39m\u001b[38;5;241m1\u001b[39m, input_shape[\u001b[38;5;241m0\u001b[39m], \u001b[38;5;241m1\u001b[39m), y_train, \n\u001b[0;32m     24\u001b[0m                         epochs\u001b[38;5;241m=\u001b[39m\u001b[38;5;241m10\u001b[39m, \n\u001b[0;32m     25\u001b[0m                         batch_size\u001b[38;5;241m=\u001b[39m\u001b[38;5;241m32\u001b[39m, \n\u001b[0;32m     26\u001b[0m                         validation_split\u001b[38;5;241m=\u001b[39m\u001b[38;5;241m0.2\u001b[39m,\n\u001b[0;32m     27\u001b[0m                         callbacks\u001b[38;5;241m=\u001b[39m[early_stopping],\n\u001b[0;32m     28\u001b[0m                         verbose\u001b[38;5;241m=\u001b[39m\u001b[38;5;241m1\u001b[39m)\n\u001b[0;32m     30\u001b[0m \u001b[38;5;28mprint\u001b[39m(\u001b[38;5;124m\"\u001b[39m\u001b[38;5;124mRNN model trained with the new feature.\u001b[39m\u001b[38;5;124m\"\u001b[39m)\n",
      "File \u001b[1;32mc:\\Users\\Eric\\anaconda3\\envs\\notebook_env\\Lib\\site-packages\\keras\\src\\utils\\traceback_utils.py:65\u001b[0m, in \u001b[0;36mfilter_traceback.<locals>.error_handler\u001b[1;34m(*args, **kwargs)\u001b[0m\n\u001b[0;32m     63\u001b[0m filtered_tb \u001b[38;5;241m=\u001b[39m \u001b[38;5;28;01mNone\u001b[39;00m\n\u001b[0;32m     64\u001b[0m \u001b[38;5;28;01mtry\u001b[39;00m:\n\u001b[1;32m---> 65\u001b[0m     \u001b[38;5;28;01mreturn\u001b[39;00m fn(\u001b[38;5;241m*\u001b[39margs, \u001b[38;5;241m*\u001b[39m\u001b[38;5;241m*\u001b[39mkwargs)\n\u001b[0;32m     66\u001b[0m \u001b[38;5;28;01mexcept\u001b[39;00m \u001b[38;5;167;01mException\u001b[39;00m \u001b[38;5;28;01mas\u001b[39;00m e:\n\u001b[0;32m     67\u001b[0m     filtered_tb \u001b[38;5;241m=\u001b[39m _process_traceback_frames(e\u001b[38;5;241m.\u001b[39m__traceback__)\n",
      "File \u001b[1;32mc:\\Users\\Eric\\anaconda3\\envs\\notebook_env\\Lib\\site-packages\\keras\\src\\engine\\training.py:1807\u001b[0m, in \u001b[0;36mModel.fit\u001b[1;34m(self, x, y, batch_size, epochs, verbose, callbacks, validation_split, validation_data, shuffle, class_weight, sample_weight, initial_epoch, steps_per_epoch, validation_steps, validation_batch_size, validation_freq, max_queue_size, workers, use_multiprocessing)\u001b[0m\n\u001b[0;32m   1799\u001b[0m \u001b[38;5;28;01mwith\u001b[39;00m tf\u001b[38;5;241m.\u001b[39mprofiler\u001b[38;5;241m.\u001b[39mexperimental\u001b[38;5;241m.\u001b[39mTrace(\n\u001b[0;32m   1800\u001b[0m     \u001b[38;5;124m\"\u001b[39m\u001b[38;5;124mtrain\u001b[39m\u001b[38;5;124m\"\u001b[39m,\n\u001b[0;32m   1801\u001b[0m     epoch_num\u001b[38;5;241m=\u001b[39mepoch,\n\u001b[1;32m   (...)\u001b[0m\n\u001b[0;32m   1804\u001b[0m     _r\u001b[38;5;241m=\u001b[39m\u001b[38;5;241m1\u001b[39m,\n\u001b[0;32m   1805\u001b[0m ):\n\u001b[0;32m   1806\u001b[0m     callbacks\u001b[38;5;241m.\u001b[39mon_train_batch_begin(step)\n\u001b[1;32m-> 1807\u001b[0m     tmp_logs \u001b[38;5;241m=\u001b[39m \u001b[38;5;28mself\u001b[39m\u001b[38;5;241m.\u001b[39mtrain_function(iterator)\n\u001b[0;32m   1808\u001b[0m     \u001b[38;5;28;01mif\u001b[39;00m data_handler\u001b[38;5;241m.\u001b[39mshould_sync:\n\u001b[0;32m   1809\u001b[0m         context\u001b[38;5;241m.\u001b[39masync_wait()\n",
      "File \u001b[1;32mc:\\Users\\Eric\\anaconda3\\envs\\notebook_env\\Lib\\site-packages\\tensorflow\\python\\util\\traceback_utils.py:150\u001b[0m, in \u001b[0;36mfilter_traceback.<locals>.error_handler\u001b[1;34m(*args, **kwargs)\u001b[0m\n\u001b[0;32m    148\u001b[0m filtered_tb \u001b[38;5;241m=\u001b[39m \u001b[38;5;28;01mNone\u001b[39;00m\n\u001b[0;32m    149\u001b[0m \u001b[38;5;28;01mtry\u001b[39;00m:\n\u001b[1;32m--> 150\u001b[0m   \u001b[38;5;28;01mreturn\u001b[39;00m fn(\u001b[38;5;241m*\u001b[39margs, \u001b[38;5;241m*\u001b[39m\u001b[38;5;241m*\u001b[39mkwargs)\n\u001b[0;32m    151\u001b[0m \u001b[38;5;28;01mexcept\u001b[39;00m \u001b[38;5;167;01mException\u001b[39;00m \u001b[38;5;28;01mas\u001b[39;00m e:\n\u001b[0;32m    152\u001b[0m   filtered_tb \u001b[38;5;241m=\u001b[39m _process_traceback_frames(e\u001b[38;5;241m.\u001b[39m__traceback__)\n",
      "File \u001b[1;32mc:\\Users\\Eric\\anaconda3\\envs\\notebook_env\\Lib\\site-packages\\tensorflow\\python\\eager\\polymorphic_function\\polymorphic_function.py:832\u001b[0m, in \u001b[0;36mFunction.__call__\u001b[1;34m(self, *args, **kwds)\u001b[0m\n\u001b[0;32m    829\u001b[0m compiler \u001b[38;5;241m=\u001b[39m \u001b[38;5;124m\"\u001b[39m\u001b[38;5;124mxla\u001b[39m\u001b[38;5;124m\"\u001b[39m \u001b[38;5;28;01mif\u001b[39;00m \u001b[38;5;28mself\u001b[39m\u001b[38;5;241m.\u001b[39m_jit_compile \u001b[38;5;28;01melse\u001b[39;00m \u001b[38;5;124m\"\u001b[39m\u001b[38;5;124mnonXla\u001b[39m\u001b[38;5;124m\"\u001b[39m\n\u001b[0;32m    831\u001b[0m \u001b[38;5;28;01mwith\u001b[39;00m OptionalXlaContext(\u001b[38;5;28mself\u001b[39m\u001b[38;5;241m.\u001b[39m_jit_compile):\n\u001b[1;32m--> 832\u001b[0m   result \u001b[38;5;241m=\u001b[39m \u001b[38;5;28mself\u001b[39m\u001b[38;5;241m.\u001b[39m_call(\u001b[38;5;241m*\u001b[39margs, \u001b[38;5;241m*\u001b[39m\u001b[38;5;241m*\u001b[39mkwds)\n\u001b[0;32m    834\u001b[0m new_tracing_count \u001b[38;5;241m=\u001b[39m \u001b[38;5;28mself\u001b[39m\u001b[38;5;241m.\u001b[39mexperimental_get_tracing_count()\n\u001b[0;32m    835\u001b[0m without_tracing \u001b[38;5;241m=\u001b[39m (tracing_count \u001b[38;5;241m==\u001b[39m new_tracing_count)\n",
      "File \u001b[1;32mc:\\Users\\Eric\\anaconda3\\envs\\notebook_env\\Lib\\site-packages\\tensorflow\\python\\eager\\polymorphic_function\\polymorphic_function.py:868\u001b[0m, in \u001b[0;36mFunction._call\u001b[1;34m(self, *args, **kwds)\u001b[0m\n\u001b[0;32m    865\u001b[0m   \u001b[38;5;28mself\u001b[39m\u001b[38;5;241m.\u001b[39m_lock\u001b[38;5;241m.\u001b[39mrelease()\n\u001b[0;32m    866\u001b[0m   \u001b[38;5;66;03m# In this case we have created variables on the first call, so we run the\u001b[39;00m\n\u001b[0;32m    867\u001b[0m   \u001b[38;5;66;03m# defunned version which is guaranteed to never create variables.\u001b[39;00m\n\u001b[1;32m--> 868\u001b[0m   \u001b[38;5;28;01mreturn\u001b[39;00m tracing_compilation\u001b[38;5;241m.\u001b[39mcall_function(\n\u001b[0;32m    869\u001b[0m       args, kwds, \u001b[38;5;28mself\u001b[39m\u001b[38;5;241m.\u001b[39m_no_variable_creation_config\n\u001b[0;32m    870\u001b[0m   )\n\u001b[0;32m    871\u001b[0m \u001b[38;5;28;01melif\u001b[39;00m \u001b[38;5;28mself\u001b[39m\u001b[38;5;241m.\u001b[39m_variable_creation_config \u001b[38;5;129;01mis\u001b[39;00m \u001b[38;5;129;01mnot\u001b[39;00m \u001b[38;5;28;01mNone\u001b[39;00m:\n\u001b[0;32m    872\u001b[0m   \u001b[38;5;66;03m# Release the lock early so that multiple threads can perform the call\u001b[39;00m\n\u001b[0;32m    873\u001b[0m   \u001b[38;5;66;03m# in parallel.\u001b[39;00m\n\u001b[0;32m    874\u001b[0m   \u001b[38;5;28mself\u001b[39m\u001b[38;5;241m.\u001b[39m_lock\u001b[38;5;241m.\u001b[39mrelease()\n",
      "File \u001b[1;32mc:\\Users\\Eric\\anaconda3\\envs\\notebook_env\\Lib\\site-packages\\tensorflow\\python\\eager\\polymorphic_function\\tracing_compilation.py:139\u001b[0m, in \u001b[0;36mcall_function\u001b[1;34m(args, kwargs, tracing_options)\u001b[0m\n\u001b[0;32m    137\u001b[0m bound_args \u001b[38;5;241m=\u001b[39m function\u001b[38;5;241m.\u001b[39mfunction_type\u001b[38;5;241m.\u001b[39mbind(\u001b[38;5;241m*\u001b[39margs, \u001b[38;5;241m*\u001b[39m\u001b[38;5;241m*\u001b[39mkwargs)\n\u001b[0;32m    138\u001b[0m flat_inputs \u001b[38;5;241m=\u001b[39m function\u001b[38;5;241m.\u001b[39mfunction_type\u001b[38;5;241m.\u001b[39munpack_inputs(bound_args)\n\u001b[1;32m--> 139\u001b[0m \u001b[38;5;28;01mreturn\u001b[39;00m function\u001b[38;5;241m.\u001b[39m_call_flat(  \u001b[38;5;66;03m# pylint: disable=protected-access\u001b[39;00m\n\u001b[0;32m    140\u001b[0m     flat_inputs, captured_inputs\u001b[38;5;241m=\u001b[39mfunction\u001b[38;5;241m.\u001b[39mcaptured_inputs\n\u001b[0;32m    141\u001b[0m )\n",
      "File \u001b[1;32mc:\\Users\\Eric\\anaconda3\\envs\\notebook_env\\Lib\\site-packages\\tensorflow\\python\\eager\\polymorphic_function\\concrete_function.py:1323\u001b[0m, in \u001b[0;36mConcreteFunction._call_flat\u001b[1;34m(self, tensor_inputs, captured_inputs)\u001b[0m\n\u001b[0;32m   1319\u001b[0m possible_gradient_type \u001b[38;5;241m=\u001b[39m gradients_util\u001b[38;5;241m.\u001b[39mPossibleTapeGradientTypes(args)\n\u001b[0;32m   1320\u001b[0m \u001b[38;5;28;01mif\u001b[39;00m (possible_gradient_type \u001b[38;5;241m==\u001b[39m gradients_util\u001b[38;5;241m.\u001b[39mPOSSIBLE_GRADIENT_TYPES_NONE\n\u001b[0;32m   1321\u001b[0m     \u001b[38;5;129;01mand\u001b[39;00m executing_eagerly):\n\u001b[0;32m   1322\u001b[0m   \u001b[38;5;66;03m# No tape is watching; skip to running the function.\u001b[39;00m\n\u001b[1;32m-> 1323\u001b[0m   \u001b[38;5;28;01mreturn\u001b[39;00m \u001b[38;5;28mself\u001b[39m\u001b[38;5;241m.\u001b[39m_inference_function\u001b[38;5;241m.\u001b[39mcall_preflattened(args)\n\u001b[0;32m   1324\u001b[0m forward_backward \u001b[38;5;241m=\u001b[39m \u001b[38;5;28mself\u001b[39m\u001b[38;5;241m.\u001b[39m_select_forward_and_backward_functions(\n\u001b[0;32m   1325\u001b[0m     args,\n\u001b[0;32m   1326\u001b[0m     possible_gradient_type,\n\u001b[0;32m   1327\u001b[0m     executing_eagerly)\n\u001b[0;32m   1328\u001b[0m forward_function, args_with_tangents \u001b[38;5;241m=\u001b[39m forward_backward\u001b[38;5;241m.\u001b[39mforward()\n",
      "File \u001b[1;32mc:\\Users\\Eric\\anaconda3\\envs\\notebook_env\\Lib\\site-packages\\tensorflow\\python\\eager\\polymorphic_function\\atomic_function.py:216\u001b[0m, in \u001b[0;36mAtomicFunction.call_preflattened\u001b[1;34m(self, args)\u001b[0m\n\u001b[0;32m    214\u001b[0m \u001b[38;5;28;01mdef\u001b[39;00m \u001b[38;5;21mcall_preflattened\u001b[39m(\u001b[38;5;28mself\u001b[39m, args: Sequence[core\u001b[38;5;241m.\u001b[39mTensor]) \u001b[38;5;241m-\u001b[39m\u001b[38;5;241m>\u001b[39m Any:\n\u001b[0;32m    215\u001b[0m \u001b[38;5;250m  \u001b[39m\u001b[38;5;124;03m\"\"\"Calls with flattened tensor inputs and returns the structured output.\"\"\"\u001b[39;00m\n\u001b[1;32m--> 216\u001b[0m   flat_outputs \u001b[38;5;241m=\u001b[39m \u001b[38;5;28mself\u001b[39m\u001b[38;5;241m.\u001b[39mcall_flat(\u001b[38;5;241m*\u001b[39margs)\n\u001b[0;32m    217\u001b[0m   \u001b[38;5;28;01mreturn\u001b[39;00m \u001b[38;5;28mself\u001b[39m\u001b[38;5;241m.\u001b[39mfunction_type\u001b[38;5;241m.\u001b[39mpack_output(flat_outputs)\n",
      "File \u001b[1;32mc:\\Users\\Eric\\anaconda3\\envs\\notebook_env\\Lib\\site-packages\\tensorflow\\python\\eager\\polymorphic_function\\atomic_function.py:251\u001b[0m, in \u001b[0;36mAtomicFunction.call_flat\u001b[1;34m(self, *args)\u001b[0m\n\u001b[0;32m    249\u001b[0m \u001b[38;5;28;01mwith\u001b[39;00m record\u001b[38;5;241m.\u001b[39mstop_recording():\n\u001b[0;32m    250\u001b[0m   \u001b[38;5;28;01mif\u001b[39;00m \u001b[38;5;28mself\u001b[39m\u001b[38;5;241m.\u001b[39m_bound_context\u001b[38;5;241m.\u001b[39mexecuting_eagerly():\n\u001b[1;32m--> 251\u001b[0m     outputs \u001b[38;5;241m=\u001b[39m \u001b[38;5;28mself\u001b[39m\u001b[38;5;241m.\u001b[39m_bound_context\u001b[38;5;241m.\u001b[39mcall_function(\n\u001b[0;32m    252\u001b[0m         \u001b[38;5;28mself\u001b[39m\u001b[38;5;241m.\u001b[39mname,\n\u001b[0;32m    253\u001b[0m         \u001b[38;5;28mlist\u001b[39m(args),\n\u001b[0;32m    254\u001b[0m         \u001b[38;5;28mlen\u001b[39m(\u001b[38;5;28mself\u001b[39m\u001b[38;5;241m.\u001b[39mfunction_type\u001b[38;5;241m.\u001b[39mflat_outputs),\n\u001b[0;32m    255\u001b[0m     )\n\u001b[0;32m    256\u001b[0m   \u001b[38;5;28;01melse\u001b[39;00m:\n\u001b[0;32m    257\u001b[0m     outputs \u001b[38;5;241m=\u001b[39m make_call_op_in_graph(\n\u001b[0;32m    258\u001b[0m         \u001b[38;5;28mself\u001b[39m,\n\u001b[0;32m    259\u001b[0m         \u001b[38;5;28mlist\u001b[39m(args),\n\u001b[0;32m    260\u001b[0m         \u001b[38;5;28mself\u001b[39m\u001b[38;5;241m.\u001b[39m_bound_context\u001b[38;5;241m.\u001b[39mfunction_call_options\u001b[38;5;241m.\u001b[39mas_attrs(),\n\u001b[0;32m    261\u001b[0m     )\n",
      "File \u001b[1;32mc:\\Users\\Eric\\anaconda3\\envs\\notebook_env\\Lib\\site-packages\\tensorflow\\python\\eager\\context.py:1486\u001b[0m, in \u001b[0;36mContext.call_function\u001b[1;34m(self, name, tensor_inputs, num_outputs)\u001b[0m\n\u001b[0;32m   1484\u001b[0m cancellation_context \u001b[38;5;241m=\u001b[39m cancellation\u001b[38;5;241m.\u001b[39mcontext()\n\u001b[0;32m   1485\u001b[0m \u001b[38;5;28;01mif\u001b[39;00m cancellation_context \u001b[38;5;129;01mis\u001b[39;00m \u001b[38;5;28;01mNone\u001b[39;00m:\n\u001b[1;32m-> 1486\u001b[0m   outputs \u001b[38;5;241m=\u001b[39m execute\u001b[38;5;241m.\u001b[39mexecute(\n\u001b[0;32m   1487\u001b[0m       name\u001b[38;5;241m.\u001b[39mdecode(\u001b[38;5;124m\"\u001b[39m\u001b[38;5;124mutf-8\u001b[39m\u001b[38;5;124m\"\u001b[39m),\n\u001b[0;32m   1488\u001b[0m       num_outputs\u001b[38;5;241m=\u001b[39mnum_outputs,\n\u001b[0;32m   1489\u001b[0m       inputs\u001b[38;5;241m=\u001b[39mtensor_inputs,\n\u001b[0;32m   1490\u001b[0m       attrs\u001b[38;5;241m=\u001b[39mattrs,\n\u001b[0;32m   1491\u001b[0m       ctx\u001b[38;5;241m=\u001b[39m\u001b[38;5;28mself\u001b[39m,\n\u001b[0;32m   1492\u001b[0m   )\n\u001b[0;32m   1493\u001b[0m \u001b[38;5;28;01melse\u001b[39;00m:\n\u001b[0;32m   1494\u001b[0m   outputs \u001b[38;5;241m=\u001b[39m execute\u001b[38;5;241m.\u001b[39mexecute_with_cancellation(\n\u001b[0;32m   1495\u001b[0m       name\u001b[38;5;241m.\u001b[39mdecode(\u001b[38;5;124m\"\u001b[39m\u001b[38;5;124mutf-8\u001b[39m\u001b[38;5;124m\"\u001b[39m),\n\u001b[0;32m   1496\u001b[0m       num_outputs\u001b[38;5;241m=\u001b[39mnum_outputs,\n\u001b[1;32m   (...)\u001b[0m\n\u001b[0;32m   1500\u001b[0m       cancellation_manager\u001b[38;5;241m=\u001b[39mcancellation_context,\n\u001b[0;32m   1501\u001b[0m   )\n",
      "File \u001b[1;32mc:\\Users\\Eric\\anaconda3\\envs\\notebook_env\\Lib\\site-packages\\tensorflow\\python\\eager\\execute.py:53\u001b[0m, in \u001b[0;36mquick_execute\u001b[1;34m(op_name, num_outputs, inputs, attrs, ctx, name)\u001b[0m\n\u001b[0;32m     51\u001b[0m \u001b[38;5;28;01mtry\u001b[39;00m:\n\u001b[0;32m     52\u001b[0m   ctx\u001b[38;5;241m.\u001b[39mensure_initialized()\n\u001b[1;32m---> 53\u001b[0m   tensors \u001b[38;5;241m=\u001b[39m pywrap_tfe\u001b[38;5;241m.\u001b[39mTFE_Py_Execute(ctx\u001b[38;5;241m.\u001b[39m_handle, device_name, op_name,\n\u001b[0;32m     54\u001b[0m                                       inputs, attrs, num_outputs)\n\u001b[0;32m     55\u001b[0m \u001b[38;5;28;01mexcept\u001b[39;00m core\u001b[38;5;241m.\u001b[39m_NotOkStatusException \u001b[38;5;28;01mas\u001b[39;00m e:\n\u001b[0;32m     56\u001b[0m   \u001b[38;5;28;01mif\u001b[39;00m name \u001b[38;5;129;01mis\u001b[39;00m \u001b[38;5;129;01mnot\u001b[39;00m \u001b[38;5;28;01mNone\u001b[39;00m:\n",
      "\u001b[1;31mKeyboardInterrupt\u001b[0m: "
     ]
    }
   ],
   "source": [
    "from tensorflow.keras.models import Sequential\n",
    "from tensorflow.keras.layers import LSTM, Dense, Dropout, Input\n",
    "from tensorflow.keras.callbacks import EarlyStopping\n",
    "\n",
    "# Adjust input shape to include the new feature\n",
    "input_shape = (X_train_with_error.shape[1], 1)\n",
    "\n",
    "# Define the RNN model\n",
    "rnn_model = Sequential([\n",
    "    Input(shape=input_shape),\n",
    "    LSTM(64, return_sequences=True),\n",
    "    Dropout(0.2),\n",
    "    LSTM(32),\n",
    "    Dropout(0.2),\n",
    "    Dense(16, activation='relu'),\n",
    "    Dense(1, activation='sigmoid')\n",
    "])\n",
    "\n",
    "rnn_model.compile(optimizer='adam', loss='binary_crossentropy', metrics=['accuracy'])\n",
    "\n",
    "# Train the model\n",
    "early_stopping = EarlyStopping(monitor='val_loss', patience=5, mode='min', restore_best_weights=True)\n",
    "history = rnn_model.fit(X_train_with_error.reshape(-1, input_shape[0], 1), y_train, \n",
    "                        epochs=10, \n",
    "                        batch_size=32, \n",
    "                        validation_split=0.2,\n",
    "                        callbacks=[early_stopping],\n",
    "                        verbose=1)\n",
    "\n",
    "print(\"RNN model trained with the new feature.\")"
   ]
  },
  {
   "cell_type": "code",
   "execution_count": 19,
   "metadata": {},
   "outputs": [
    {
     "name": "stdout",
     "output_type": "stream",
     "text": [
      "Model saved successfully.\n"
     ]
    }
   ],
   "source": [
    "# Save the entire model\n",
    "rnn_model.save('anomallyrnnlstmmodel2.keras')\n",
    "\n",
    "print(\"Model saved successfully.\")"
   ]
  },
  {
   "cell_type": "code",
   "execution_count": 20,
   "metadata": {},
   "outputs": [
    {
     "name": "stdout",
     "output_type": "stream",
     "text": [
      "Test Loss: 0.0012\n",
      "Test Accuracy: 0.9997\n",
      "20416/20416 [==============================] - 315s 15ms/step\n",
      "              precision    recall  f1-score   support\n",
      "\n",
      "           0       0.99      1.00      0.99     11874\n",
      "           1       1.00      1.00      1.00    641407\n",
      "\n",
      "    accuracy                           1.00    653281\n",
      "   macro avg       0.99      1.00      1.00    653281\n",
      "weighted avg       1.00      1.00      1.00    653281\n",
      "\n"
     ]
    }
   ],
   "source": [
    "# Evaluate the model\n",
    "loss, accuracy = rnn_model.evaluate(X_test_with_error.reshape(-1, input_shape[0], 1), y_test, verbose=0)\n",
    "print(f\"Test Loss: {loss:.4f}\")\n",
    "print(f\"Test Accuracy: {accuracy:.4f}\")\n",
    "\n",
    "# Make predictions\n",
    "y_pred = rnn_model.predict(X_test_with_error.reshape(-1, input_shape[0], 1))\n",
    "y_pred_classes = (y_pred > 0.5).astype(int)\n",
    "\n",
    "# Print classification report\n",
    "from sklearn.metrics import classification_report\n",
    "print(classification_report(y_test, y_pred_classes))"
   ]
  },
  {
   "cell_type": "markdown",
   "metadata": {},
   "source": [
    "High Performance: The model shows excellent performance with an accuracy of 99.96%. This is extremely high and indicates that the model is very good at distinguishing between normal traffic and DDoS attacks.\n",
    "Balanced Performance: The model performs well on both classes. It's particularly strong in identifying DDoS attacks (Class 1) with perfect precision and recall.\n",
    "Slight Improvement in Normal Traffic Detection: For Class 0 (Normal Traffic), the precision is 0.98, which is very good. The recall of 1.00 suggests that the model is not missing any normal traffic instances.\n",
    "Low False Positive Rate: The high precision for Class 0 (0.98) indicates a low false positive rate, which is crucial in a real-world scenario to avoid unnecessary alarms."
   ]
  },
  {
   "cell_type": "code",
   "execution_count": 21,
   "metadata": {},
   "outputs": [
    {
     "data": {
      "image/png": "[encoded data removed]",
      "text/plain": [
       "<Figure size 1200x400 with 2 Axes>"
      ]
     },
     "metadata": {},
     "output_type": "display_data"
    }
   ],
   "source": [
    "import matplotlib.pyplot as plt\n",
    "\n",
    "plt.figure(figsize=(12, 4))\n",
    "\n",
    "plt.subplot(121)\n",
    "plt.plot(history.history['accuracy'], label='Train Accuracy')\n",
    "plt.plot(history.history['val_accuracy'], label='Validation Accuracy')\n",
    "plt.title('Model Accuracy')\n",
    "plt.xlabel('Epoch')\n",
    "plt.ylabel('Accuracy')\n",
    "plt.legend()\n",
    "\n",
    "plt.subplot(122)\n",
    "plt.plot(history.history['loss'], label='Train Loss')\n",
    "plt.plot(history.history['val_loss'], label='Validation Loss')\n",
    "plt.title('Model Loss')\n",
    "plt.xlabel('Epoch')\n",
    "plt.ylabel('Loss')\n",
    "plt.legend()\n",
    "\n",
    "plt.tight_layout()\n",
    "plt.show()"
   ]
  },
  {
   "cell_type": "markdown",
   "metadata": {},
   "source": [
    "High Initial Performance: The model starts with very high accuracy, suggesting that the features (including the new autoencoder feature) are highly informative for DDoS detection.\n",
    "Consistent Improvement: Both accuracy and loss improve over time, indicating that the model is learning effectively from the data.\n",
    "Good Generalization: The close tracking of training and validation metrics suggests the model is generalizing well and not overfitting to the training data.\n",
    "Quick Recovery: The model quickly recovers from the temporary performance dip around epoch 4, demonstrating resilience in learning"
   ]
  },
  {
   "cell_type": "code",
   "execution_count": 22,
   "metadata": {},
   "outputs": [
    {
     "name": "stdout",
     "output_type": "stream",
     "text": [
      "True Negatives (TN): 11821\n",
      "False Positives (FP): 53\n",
      "False Negatives (FN): 163\n",
      "True Positives (TP): 641244\n",
      "\n",
      "Accuracy: 0.9997\n",
      "Precision: 0.9999\n",
      "Recall (Sensitivity): 0.9997\n",
      "Specificity: 0.9955\n",
      "F1-score: 0.9998\n"
     ]
    }
   ],
   "source": [
    "from sklearn.metrics import confusion_matrix\n",
    "import numpy as np\n",
    "\n",
    "# Assuming y_test and y_pred_classes are already defined\n",
    "cm = confusion_matrix(y_test, y_pred_classes)\n",
    "\n",
    "# Extract values from the confusion matrix\n",
    "tn, fp, fn, tp = cm.ravel()\n",
    "\n",
    "# Calculate additional metrics\n",
    "accuracy = (tp + tn) / (tp + tn + fp + fn)\n",
    "precision = tp / (tp + fp)\n",
    "recall = tp / (tp + fn)\n",
    "f1_score = 2 * (precision * recall) / (precision + recall)\n",
    "specificity = tn / (tn + fp)\n",
    "\n",
    "# Print results\n",
    "print(f\"True Negatives (TN): {tn}\")\n",
    "print(f\"False Positives (FP): {fp}\")\n",
    "print(f\"False Negatives (FN): {fn}\")\n",
    "print(f\"True Positives (TP): {tp}\")\n",
    "print(f\"\\nAccuracy: {accuracy:.4f}\")\n",
    "print(f\"Precision: {precision:.4f}\")\n",
    "print(f\"Recall (Sensitivity): {recall:.4f}\")\n",
    "print(f\"Specificity: {specificity:.4f}\")\n",
    "print(f\"F1-score: {f1_score:.4f}\")"
   ]
  },
  {
   "cell_type": "markdown",
   "metadata": {},
   "source": [
    "True Negatives (TN): 11,832\n",
    "\n",
    "These are correctly identified normal traffic instances.\n",
    "This indicates your model is good at recognizing normal network behavior.\n",
    "\n",
    "\n",
    "False Positives (FP): 42\n",
    "\n",
    "These are normal traffic instances incorrectly flagged as DDoS attacks.\n",
    "While low, these could lead to unnecessary alerts or actions in a real system.\n",
    "\n",
    "\n",
    "False Negatives (FN): 213\n",
    "\n",
    "These are DDoS attacks that the model failed to detect.\n",
    "This is the most concerning metric, as missed attacks could be harmful.\n",
    "\n",
    "\n",
    "True Positives (TP): 641,194\n",
    "\n",
    "Correctly identified DDoS attacks.\n",
    "The high number shows the model is very effective at detecting attacks.\n",
    "\n",
    "\n",
    "Accuracy: 0.9996 (99.96%)\n",
    "\n",
    "Overall, the model is correct 99.96% of the time, which is excellent.\n",
    "\n",
    "\n",
    "Precision: 0.9999 (99.99%)\n",
    "\n",
    "Out of all instances the model flagged as attacks, 99.99% were actual attacks.\n",
    "This indicates very few false alarms.\n",
    "\n",
    "\n",
    "Recall (Sensitivity): 0.9997 (99.97%)\n",
    "\n",
    "The model detected 99.97% of all actual DDoS attacks in the dataset.\n",
    "This high recall is crucial for a security system.\n",
    "\n",
    "\n",
    "Specificity: 0.9965 (99.65%)\n",
    "\n",
    "The model correctly identified 99.65% of normal traffic.\n",
    "Slightly lower than recall, but still very good.\n",
    "\n",
    "\n",
    "F1-score: 0.9998 (99.98%)\n",
    "\n",
    "This balanced measure of precision and recall is extremely high."
   ]
  },
  {
   "cell_type": "markdown",
   "metadata": {},
   "source": [
    "Overall Performance: The model shows excellent performance across all metrics.\n",
    "Class Imbalance: There's a significant imbalance (11,874 normal vs 641,407 attack instances). Despite this, the model performs well on both classes.\n",
    "False Negatives: While low (213), these are the most concerning errors. In a real-world scenario, these represent undetected attacks.\n",
    "False Positives: Also low (42), these could lead to some unnecessary alerts but are manageable.\n",
    "Precision vs Recall: The model has slightly higher precision than recall, indicating it's marginally more likely to miss an attack than to raise a false alarm."
   ]
  }
 ],
 "metadata": {
  "kernelspec": {
   "display_name": "notebook_env",
   "language": "python",
   "name": "python3"
  },
  "language_info": {
   "codemirror_mode": {
    "name": "ipython",
    "version": 3
   },
   "file_extension": ".py",
   "mimetype": "text/x-python",
   "name": "python",
   "nbconvert_exporter": "python",
   "pygments_lexer": "ipython3",
   "version": "3.11.5"
  }
 },
 "nbformat": 4,
 "nbformat_minor": 2
}
