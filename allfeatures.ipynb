{
 "cells": [
  {
   "cell_type": "code",
   "execution_count": 1,
   "metadata": {},
   "outputs": [],
   "source": [
    "import pandas as pd\n",
    "\n",
    "import numpy as np \n",
    "\n",
    "import matplotlib.pyplot as plt  \n",
    "\n",
    "import seaborn as sns"
   ]
  },
  {
   "cell_type": "code",
   "execution_count": 2,
   "metadata": {},
   "outputs": [
    {
     "name": "stderr",
     "output_type": "stream",
     "text": [
      "C:\\Users\\Eric\\AppData\\Local\\Temp\\ipykernel_14664\\3503835977.py:3: DtypeWarning: Columns (85) have mixed types. Specify dtype option on import or set low_memory=False.\n",
      "  data = pd.read_csv(file_path)\n"
     ]
    },
    {
     "data": {
      "text/html": [
       "<div>\n",
       "<style scoped>\n",
       "    .dataframe tbody tr th:only-of-type {\n",
       "        vertical-align: middle;\n",
       "    }\n",
       "\n",
       "    .dataframe tbody tr th {\n",
       "        vertical-align: top;\n",
       "    }\n",
       "\n",
       "    .dataframe thead th {\n",
       "        text-align: right;\n",
       "    }\n",
       "</style>\n",
       "<table border=\"1\" class=\"dataframe\">\n",
       "  <thead>\n",
       "    <tr style=\"text-align: right;\">\n",
       "      <th></th>\n",
       "      <th>Unnamed: 0</th>\n",
       "      <th>Flow ID</th>\n",
       "      <th>Source IP</th>\n",
       "      <th>Source Port</th>\n",
       "      <th>Destination IP</th>\n",
       "      <th>Destination Port</th>\n",
       "      <th>Protocol</th>\n",
       "      <th>Timestamp</th>\n",
       "      <th>Flow Duration</th>\n",
       "      <th>Total Fwd Packets</th>\n",
       "      <th>...</th>\n",
       "      <th>Active Std</th>\n",
       "      <th>Active Max</th>\n",
       "      <th>Active Min</th>\n",
       "      <th>Idle Mean</th>\n",
       "      <th>Idle Std</th>\n",
       "      <th>Idle Max</th>\n",
       "      <th>Idle Min</th>\n",
       "      <th>SimillarHTTP</th>\n",
       "      <th>Inbound</th>\n",
       "      <th>Label</th>\n",
       "    </tr>\n",
       "  </thead>\n",
       "  <tbody>\n",
       "    <tr>\n",
       "      <th>0</th>\n",
       "      <td>32452</td>\n",
       "      <td>172.16.0.5-192.168.50.1-1011-30217-17</td>\n",
       "      <td>172.16.0.5</td>\n",
       "      <td>1011</td>\n",
       "      <td>192.168.50.1</td>\n",
       "      <td>30217</td>\n",
       "      <td>17</td>\n",
       "      <td>2018-12-01 11:24:50.037167</td>\n",
       "      <td>1</td>\n",
       "      <td>2</td>\n",
       "      <td>...</td>\n",
       "      <td>0.0</td>\n",
       "      <td>0.0</td>\n",
       "      <td>0.0</td>\n",
       "      <td>0.0</td>\n",
       "      <td>0.0</td>\n",
       "      <td>0.0</td>\n",
       "      <td>0.0</td>\n",
       "      <td>0</td>\n",
       "      <td>1</td>\n",
       "      <td>DrDoS_LDAP</td>\n",
       "    </tr>\n",
       "    <tr>\n",
       "      <th>1</th>\n",
       "      <td>41836</td>\n",
       "      <td>172.16.0.5-192.168.50.1-572-60094-17</td>\n",
       "      <td>172.16.0.5</td>\n",
       "      <td>572</td>\n",
       "      <td>192.168.50.1</td>\n",
       "      <td>60094</td>\n",
       "      <td>17</td>\n",
       "      <td>2018-12-01 12:14:22.545861</td>\n",
       "      <td>2</td>\n",
       "      <td>2</td>\n",
       "      <td>...</td>\n",
       "      <td>0.0</td>\n",
       "      <td>0.0</td>\n",
       "      <td>0.0</td>\n",
       "      <td>0.0</td>\n",
       "      <td>0.0</td>\n",
       "      <td>0.0</td>\n",
       "      <td>0.0</td>\n",
       "      <td>0</td>\n",
       "      <td>1</td>\n",
       "      <td>DrDoS_SNMP</td>\n",
       "    </tr>\n",
       "    <tr>\n",
       "      <th>2</th>\n",
       "      <td>2695</td>\n",
       "      <td>172.16.0.5-192.168.50.1-676-43803-17</td>\n",
       "      <td>172.16.0.5</td>\n",
       "      <td>676</td>\n",
       "      <td>192.168.50.1</td>\n",
       "      <td>43803</td>\n",
       "      <td>17</td>\n",
       "      <td>2018-12-01 10:38:56.749612</td>\n",
       "      <td>203</td>\n",
       "      <td>52</td>\n",
       "      <td>...</td>\n",
       "      <td>0.0</td>\n",
       "      <td>0.0</td>\n",
       "      <td>0.0</td>\n",
       "      <td>0.0</td>\n",
       "      <td>0.0</td>\n",
       "      <td>0.0</td>\n",
       "      <td>0.0</td>\n",
       "      <td>0</td>\n",
       "      <td>1</td>\n",
       "      <td>DrDoS_NTP</td>\n",
       "    </tr>\n",
       "    <tr>\n",
       "      <th>3</th>\n",
       "      <td>103799</td>\n",
       "      <td>172.16.0.5-192.168.50.1-62478-10715-17</td>\n",
       "      <td>172.16.0.5</td>\n",
       "      <td>62478</td>\n",
       "      <td>192.168.50.1</td>\n",
       "      <td>10715</td>\n",
       "      <td>17</td>\n",
       "      <td>2018-12-01 13:49:26.909740</td>\n",
       "      <td>0</td>\n",
       "      <td>2</td>\n",
       "      <td>...</td>\n",
       "      <td>0.0</td>\n",
       "      <td>0.0</td>\n",
       "      <td>0.0</td>\n",
       "      <td>0.0</td>\n",
       "      <td>0.0</td>\n",
       "      <td>0.0</td>\n",
       "      <td>0.0</td>\n",
       "      <td>0</td>\n",
       "      <td>1</td>\n",
       "      <td>TFTP</td>\n",
       "    </tr>\n",
       "    <tr>\n",
       "      <th>4</th>\n",
       "      <td>121183</td>\n",
       "      <td>172.16.0.5-192.168.50.1-35561-29716-17</td>\n",
       "      <td>172.16.0.5</td>\n",
       "      <td>35561</td>\n",
       "      <td>192.168.50.1</td>\n",
       "      <td>29716</td>\n",
       "      <td>17</td>\n",
       "      <td>2018-12-01 13:04:38.438546</td>\n",
       "      <td>104757</td>\n",
       "      <td>4</td>\n",
       "      <td>...</td>\n",
       "      <td>0.0</td>\n",
       "      <td>0.0</td>\n",
       "      <td>0.0</td>\n",
       "      <td>0.0</td>\n",
       "      <td>0.0</td>\n",
       "      <td>0.0</td>\n",
       "      <td>0.0</td>\n",
       "      <td>0</td>\n",
       "      <td>1</td>\n",
       "      <td>DrDoS_UDP</td>\n",
       "    </tr>\n",
       "  </tbody>\n",
       "</table>\n",
       "<p>5 rows × 88 columns</p>\n",
       "</div>"
      ],
      "text/plain": [
       "   Unnamed: 0                                 Flow ID   Source IP  \\\n",
       "0       32452   172.16.0.5-192.168.50.1-1011-30217-17  172.16.0.5   \n",
       "1       41836    172.16.0.5-192.168.50.1-572-60094-17  172.16.0.5   \n",
       "2        2695    172.16.0.5-192.168.50.1-676-43803-17  172.16.0.5   \n",
       "3      103799  172.16.0.5-192.168.50.1-62478-10715-17  172.16.0.5   \n",
       "4      121183  172.16.0.5-192.168.50.1-35561-29716-17  172.16.0.5   \n",
       "\n",
       "    Source Port  Destination IP   Destination Port   Protocol  \\\n",
       "0          1011    192.168.50.1              30217         17   \n",
       "1           572    192.168.50.1              60094         17   \n",
       "2           676    192.168.50.1              43803         17   \n",
       "3         62478    192.168.50.1              10715         17   \n",
       "4         35561    192.168.50.1              29716         17   \n",
       "\n",
       "                    Timestamp   Flow Duration   Total Fwd Packets  ...  \\\n",
       "0  2018-12-01 11:24:50.037167               1                   2  ...   \n",
       "1  2018-12-01 12:14:22.545861               2                   2  ...   \n",
       "2  2018-12-01 10:38:56.749612             203                  52  ...   \n",
       "3  2018-12-01 13:49:26.909740               0                   2  ...   \n",
       "4  2018-12-01 13:04:38.438546          104757                   4  ...   \n",
       "\n",
       "    Active Std   Active Max   Active Min  Idle Mean   Idle Std   Idle Max  \\\n",
       "0          0.0          0.0          0.0        0.0        0.0        0.0   \n",
       "1          0.0          0.0          0.0        0.0        0.0        0.0   \n",
       "2          0.0          0.0          0.0        0.0        0.0        0.0   \n",
       "3          0.0          0.0          0.0        0.0        0.0        0.0   \n",
       "4          0.0          0.0          0.0        0.0        0.0        0.0   \n",
       "\n",
       "    Idle Min  SimillarHTTP   Inbound       Label  \n",
       "0        0.0             0         1  DrDoS_LDAP  \n",
       "1        0.0             0         1  DrDoS_SNMP  \n",
       "2        0.0             0         1   DrDoS_NTP  \n",
       "3        0.0             0         1        TFTP  \n",
       "4        0.0             0         1   DrDoS_UDP  \n",
       "\n",
       "[5 rows x 88 columns]"
      ]
     },
     "execution_count": 2,
     "metadata": {},
     "output_type": "execute_result"
    }
   ],
   "source": [
    "file_path = (\"data/processed/ddos_train_data.csv\")\n",
    "\n",
    "data = pd.read_csv(file_path)\n",
    "\n",
    "data.head()"
   ]
  },
  {
   "cell_type": "code",
   "execution_count": 3,
   "metadata": {},
   "outputs": [],
   "source": [
    "data.columns = data.columns.str.strip()"
   ]
  },
  {
   "cell_type": "code",
   "execution_count": 4,
   "metadata": {},
   "outputs": [
    {
     "name": "stdout",
     "output_type": "stream",
     "text": [
      "Columns with null values:\n",
      "Flow Bytes/s    65812\n",
      "dtype: int64\n",
      "\n",
      "Total number of null values: 65812\n",
      "\n",
      "Percentage of null values in each column:\n",
      "Flow Bytes/s    1.940387\n",
      "dtype: float64\n",
      "\n",
      "Rows removed: 65812\n",
      "Percentage of data removed: 1.94%\n",
      "\n",
      "Shape of dataframe after removing null values: (3325882, 88)\n",
      "\n",
      "First few rows of the cleaned dataframe:\n",
      "   Unnamed: 0                                 Flow ID   Source IP  \\\n",
      "0       32452   172.16.0.5-192.168.50.1-1011-30217-17  172.16.0.5   \n",
      "1       41836    172.16.0.5-192.168.50.1-572-60094-17  172.16.0.5   \n",
      "2        2695    172.16.0.5-192.168.50.1-676-43803-17  172.16.0.5   \n",
      "3      103799  172.16.0.5-192.168.50.1-62478-10715-17  172.16.0.5   \n",
      "4      121183  172.16.0.5-192.168.50.1-35561-29716-17  172.16.0.5   \n",
      "\n",
      "   Source Port Destination IP  Destination Port  Protocol  \\\n",
      "0         1011   192.168.50.1             30217        17   \n",
      "1          572   192.168.50.1             60094        17   \n",
      "2          676   192.168.50.1             43803        17   \n",
      "3        62478   192.168.50.1             10715        17   \n",
      "4        35561   192.168.50.1             29716        17   \n",
      "\n",
      "                    Timestamp  Flow Duration  Total Fwd Packets  ...  \\\n",
      "0  2018-12-01 11:24:50.037167              1                  2  ...   \n",
      "1  2018-12-01 12:14:22.545861              2                  2  ...   \n",
      "2  2018-12-01 10:38:56.749612            203                 52  ...   \n",
      "3  2018-12-01 13:49:26.909740              0                  2  ...   \n",
      "4  2018-12-01 13:04:38.438546         104757                  4  ...   \n",
      "\n",
      "   Active Std  Active Max  Active Min  Idle Mean  Idle Std  Idle Max  \\\n",
      "0         0.0         0.0         0.0        0.0       0.0       0.0   \n",
      "1         0.0         0.0         0.0        0.0       0.0       0.0   \n",
      "2         0.0         0.0         0.0        0.0       0.0       0.0   \n",
      "3         0.0         0.0         0.0        0.0       0.0       0.0   \n",
      "4         0.0         0.0         0.0        0.0       0.0       0.0   \n",
      "\n",
      "   Idle Min  SimillarHTTP  Inbound       Label  \n",
      "0       0.0             0        1  DrDoS_LDAP  \n",
      "1       0.0             0        1  DrDoS_SNMP  \n",
      "2       0.0             0        1   DrDoS_NTP  \n",
      "3       0.0             0        1        TFTP  \n",
      "4       0.0             0        1   DrDoS_UDP  \n",
      "\n",
      "[5 rows x 88 columns]\n",
      "\n",
      "Verifying null values after cleaning:\n",
      "0\n"
     ]
    }
   ],
   "source": [
    "import pandas as pd\n",
    "import numpy as np\n",
    "\n",
    "# Assuming your dataframe is named 'data'\n",
    "\n",
    "# Check for null values\n",
    "null_counts = data.isnull().sum()\n",
    "total_null = null_counts.sum()\n",
    "\n",
    "print(\"Columns with null values:\")\n",
    "print(null_counts[null_counts > 0])\n",
    "print(f\"\\nTotal number of null values: {total_null}\")\n",
    "\n",
    "# Calculate percentage of null values\n",
    "null_percentage = (null_counts / len(data)) * 100\n",
    "\n",
    "print(\"\\nPercentage of null values in each column:\")\n",
    "print(null_percentage[null_percentage > 0])\n",
    "\n",
    "# Remove rows with null values\n",
    "data_cleaned = data.dropna()\n",
    "\n",
    "# Print information about the cleaning process\n",
    "rows_removed = len(data) - len(data_cleaned)\n",
    "print(f\"\\nRows removed: {rows_removed}\")\n",
    "print(f\"Percentage of data removed: {(rows_removed / len(data)) * 100:.2f}%\")\n",
    "\n",
    "# Update the original dataframe\n",
    "data = data_cleaned\n",
    "\n",
    "print(f\"\\nShape of dataframe after removing null values: {data.shape}\")\n",
    "\n",
    "# Display the first few rows of the cleaned dataframe\n",
    "print(\"\\nFirst few rows of the cleaned dataframe:\")\n",
    "print(data.head())\n",
    "\n",
    "# Verify that there are no more null values\n",
    "print(\"\\nVerifying null values after cleaning:\")\n",
    "print(data.isnull().sum().sum())"
   ]
  },
  {
   "cell_type": "code",
   "execution_count": 5,
   "metadata": {},
   "outputs": [],
   "source": [
    "features_to_remove = [\n",
    "    'Unnamed: 0',  # This seems to be an index column\n",
    "    'Flow ID',     # Unique identifier, not useful for prediction\n",
    "    'Source IP',   # Specific network identifiers, not generalizable\n",
    "    'Destination IP',\n",
    "    'Timestamp',   # Time-specific information, may not be generalizable\n",
    "    'SimillarHTTP', # Possibly misspelled, unclear relevance\n",
    "    'Source Port',\n",
    "    'Destination Port'\n",
    "]\n",
    "\n",
    "data = data.drop(columns=features_to_remove)"
   ]
  },
  {
   "cell_type": "code",
   "execution_count": 6,
   "metadata": {},
   "outputs": [
    {
     "name": "stdout",
     "output_type": "stream",
     "text": [
      "BinaryLabel\n",
      "1    0.982044\n",
      "0    0.017956\n",
      "Name: proportion, dtype: float64\n"
     ]
    }
   ],
   "source": [
    "# Create binary labels\n",
    "data['BinaryLabel'] = (data['Label'] != 'BENIGN').astype(int)\n",
    "\n",
    "# Print the distribution\n",
    "print(data['BinaryLabel'].value_counts(normalize=True))"
   ]
  },
  {
   "cell_type": "code",
   "execution_count": 7,
   "metadata": {},
   "outputs": [
    {
     "name": "stdout",
     "output_type": "stream",
     "text": [
      "Original shape: (3325882, 81)\n",
      "Shape after removing NaN and infinity rows: (3266402, 81)\n"
     ]
    }
   ],
   "source": [
    "# Remove rows with NaN or infinity values\n",
    "data_cleaned = data.replace([np.inf, -np.inf], np.nan).dropna()\n",
    "\n",
    "print(f\"Original shape: {data.shape}\")\n",
    "print(f\"Shape after removing NaN and infinity rows: {data_cleaned.shape}\")"
   ]
  },
  {
   "cell_type": "code",
   "execution_count": 8,
   "metadata": {},
   "outputs": [
    {
     "name": "stdout",
     "output_type": "stream",
     "text": [
      "Columns removed (containing only zeros): ['Bwd PSH Flags', 'Fwd URG Flags', 'Bwd URG Flags', 'FIN Flag Count', 'PSH Flag Count', 'ECE Flag Count', 'Fwd Avg Bytes/Bulk', 'Fwd Avg Packets/Bulk', 'Fwd Avg Bulk Rate', 'Bwd Avg Bytes/Bulk', 'Bwd Avg Packets/Bulk', 'Bwd Avg Bulk Rate']\n",
      "Shape after removing zero columns: (3266402, 69)\n"
     ]
    }
   ],
   "source": [
    "# Identify columns with only zeros\n",
    "zero_columns = data_cleaned.columns[(data_cleaned == 0).all()].tolist()\n",
    "\n",
    "# Remove these columns\n",
    "data_cleaned = data_cleaned.drop(columns=zero_columns)\n",
    "\n",
    "print(f\"Columns removed (containing only zeros): {zero_columns}\")\n",
    "print(f\"Shape after removing zero columns: {data_cleaned.shape}\")"
   ]
  },
  {
   "cell_type": "code",
   "execution_count": 9,
   "metadata": {},
   "outputs": [
    {
     "name": "stdout",
     "output_type": "stream",
     "text": [
      "\n",
      "Selected features: ['Flow Packets/s', 'Fwd Packets/s', 'Max Packet Length', 'Packet Length Mean', 'Fwd Packet Length Mean', 'Avg Fwd Segment Size', 'Average Packet Size', 'Fwd Packet Length Max', 'Inbound', 'Protocol', 'Fwd Packet Length Min', 'Min Packet Length', 'Flow Bytes/s', 'Init_Win_bytes_forward', 'Total Length of Fwd Packets', 'Subflow Fwd Bytes', 'Bwd Packets/s', 'Flow IAT Mean', 'Flow IAT Max', 'Flow IAT Std', 'Flow Duration', 'Packet Length Std', 'Packet Length Variance', 'Bwd IAT Max', 'Bwd IAT Total', 'Bwd IAT Mean', 'Bwd Header Length', 'Total Backward Packets', 'Subflow Bwd Packets', 'Bwd IAT Min', 'BinaryLabel']\n"
     ]
    }
   ],
   "source": [
    "from sklearn.feature_selection import mutual_info_classif\n",
    "\n",
    "# Prepare features and target\n",
    "X = data_cleaned.drop(['Label', 'BinaryLabel'], axis=1)\n",
    "y_binary = data_cleaned['BinaryLabel']\n",
    "\n",
    "# Calculate mutual information\n",
    "mi_scores = mutual_info_classif(X, y_binary)\n",
    "\n",
    "# Create a dataframe of features and their mutual information scores\n",
    "mi_df = pd.DataFrame({'feature': X.columns, 'mi_score': mi_scores})\n",
    "mi_df = mi_df.sort_values('mi_score', ascending=False)\n",
    "\n",
    "# Select top 30 features (you can adjust this number)\n",
    "top_features = mi_df['feature'][:30].tolist()\n",
    "\n",
    "# Create a new dataframe with selected features and binary label\n",
    "selected_features = top_features + ['BinaryLabel']\n",
    "data_selected = data_cleaned[selected_features]\n",
    "\n",
    "print(\"\\nSelected features:\", selected_features)"
   ]
  },
  {
   "cell_type": "code",
   "execution_count": 10,
   "metadata": {},
   "outputs": [],
   "source": [
    "from sklearn.preprocessing import StandardScaler\n",
    "\n",
    "# Separate features and target\n",
    "X = data_selected.drop('BinaryLabel', axis=1)\n",
    "y = data_selected['BinaryLabel']\n",
    "\n",
    "# Scale the features\n",
    "scaler = StandardScaler()\n",
    "X_scaled = scaler.fit_transform(X)\n",
    "\n",
    "# Create a new dataframe with scaled features\n",
    "X_scaled_df = pd.DataFrame(X_scaled, columns=X.columns)"
   ]
  },
  {
   "cell_type": "code",
   "execution_count": 11,
   "metadata": {},
   "outputs": [
    {
     "name": "stdout",
     "output_type": "stream",
     "text": [
      "\n",
      "Data split sizes:\n",
      "Training set: (2613121, 30)\n",
      "Testing set: (653281, 30)\n"
     ]
    }
   ],
   "source": [
    "from sklearn.model_selection import train_test_split\n",
    "\n",
    "# Split the dataset into training and testing sets\n",
    "X_train, X_test, y_train, y_test = train_test_split(\n",
    "    X_scaled_df, y, test_size=0.2, stratify=y, random_state=42\n",
    ")\n",
    "\n",
    "print(\"\\nData split sizes:\")\n",
    "print(f\"Training set: {X_train.shape}\")\n",
    "print(f\"Testing set: {X_test.shape}\")\n"
   ]
  },
  {
   "cell_type": "code",
   "execution_count": 12,
   "metadata": {},
   "outputs": [
    {
     "name": "stdout",
     "output_type": "stream",
     "text": [
      "WARNING:tensorflow:From c:\\Users\\Eric\\anaconda3\\envs\\notebook_env\\Lib\\site-packages\\keras\\src\\losses.py:2976: The name tf.losses.sparse_softmax_cross_entropy is deprecated. Please use tf.compat.v1.losses.sparse_softmax_cross_entropy instead.\n",
      "\n"
     ]
    }
   ],
   "source": [
    "import numpy as np\n",
    "import pandas as pd\n",
    "from sklearn.model_selection import train_test_split\n",
    "from sklearn.preprocessing import StandardScaler\n",
    "from tensorflow.keras.models import Sequential\n",
    "from tensorflow.keras.layers import LSTM, Dense, Dropout\n",
    "from tensorflow.keras.optimizers import Adam\n",
    "from tensorflow.keras.callbacks import EarlyStopping"
   ]
  },
  {
   "cell_type": "code",
   "execution_count": 13,
   "metadata": {},
   "outputs": [
    {
     "name": "stdout",
     "output_type": "stream",
     "text": [
      "Training data shape: (2613121, 1, 30)\n",
      "Testing data shape: (653281, 1, 30)\n"
     ]
    }
   ],
   "source": [
    "# Reshape input to be 3D [samples, time steps, features] for LSTM\n",
    "X_train = X_train.values.reshape((X_train.shape[0], 1, X_train.shape[1]))\n",
    "X_test = X_test.values.reshape((X_test.shape[0], 1, X_test.shape[1]))\n",
    "\n",
    "print(\"Training data shape:\", X_train.shape)\n",
    "print(\"Testing data shape:\", X_test.shape)"
   ]
  },
  {
   "cell_type": "code",
   "execution_count": 14,
   "metadata": {},
   "outputs": [
    {
     "name": "stdout",
     "output_type": "stream",
     "text": [
      "WARNING:tensorflow:From c:\\Users\\Eric\\anaconda3\\envs\\notebook_env\\Lib\\site-packages\\keras\\src\\backend.py:1398: The name tf.executing_eagerly_outside_functions is deprecated. Please use tf.compat.v1.executing_eagerly_outside_functions instead.\n",
      "\n",
      "WARNING:tensorflow:From c:\\Users\\Eric\\anaconda3\\envs\\notebook_env\\Lib\\site-packages\\keras\\src\\optimizers\\__init__.py:309: The name tf.train.Optimizer is deprecated. Please use tf.compat.v1.train.Optimizer instead.\n",
      "\n",
      "Epoch 1/50\n",
      "WARNING:tensorflow:From c:\\Users\\Eric\\anaconda3\\envs\\notebook_env\\Lib\\site-packages\\keras\\src\\utils\\tf_utils.py:492: The name tf.ragged.RaggedTensorValue is deprecated. Please use tf.compat.v1.ragged.RaggedTensorValue instead.\n",
      "\n",
      "65328/65328 [==============================] - 138s 2ms/step - loss: 0.4964 - val_loss: 0.3904\n",
      "Epoch 2/50\n",
      "65328/65328 [==============================] - 161s 2ms/step - loss: 0.3930 - val_loss: 0.3750\n",
      "Epoch 3/50\n",
      "65328/65328 [==============================] - 337s 5ms/step - loss: 0.3601 - val_loss: 0.3306\n",
      "Epoch 4/50\n",
      "65328/65328 [==============================] - 280s 4ms/step - loss: 0.3529 - val_loss: 0.3294\n",
      "Epoch 5/50\n",
      "65328/65328 [==============================] - 287s 4ms/step - loss: 0.3453 - val_loss: 0.3322\n",
      "Epoch 6/50\n",
      "65328/65328 [==============================] - 287s 4ms/step - loss: 0.3289 - val_loss: 0.3330\n",
      "Epoch 7/50\n",
      "65328/65328 [==============================] - 286s 4ms/step - loss: 0.3955 - val_loss: 0.3232\n",
      "Epoch 8/50\n",
      "65328/65328 [==============================] - 289s 4ms/step - loss: 0.4138 - val_loss: 0.3063\n",
      "Epoch 9/50\n",
      "65328/65328 [==============================] - 291s 4ms/step - loss: 0.4236 - val_loss: 0.3273\n",
      "Epoch 10/50\n",
      "65328/65328 [==============================] - 212s 3ms/step - loss: 0.4038 - val_loss: 0.3077\n",
      "Epoch 11/50\n",
      "65328/65328 [==============================] - 262s 4ms/step - loss: 0.4916 - val_loss: 0.3067\n",
      "Autoencoder trained successfully.\n"
     ]
    }
   ],
   "source": [
    "import numpy as np\n",
    "from tensorflow.keras.models import Model\n",
    "from tensorflow.keras.layers import Input, Dense, LSTM, RepeatVector\n",
    "from tensorflow.keras.callbacks import EarlyStopping\n",
    "\n",
    "# Assuming X_train is your training data\n",
    "input_dim = X_train.shape[2]  # number of features\n",
    "timesteps = X_train.shape[1]  # number of timesteps\n",
    "\n",
    "# Define the autoencoder model\n",
    "input_layer = Input(shape=(timesteps, input_dim))\n",
    "encoded = LSTM(64, activation='relu')(input_layer)\n",
    "decoded = RepeatVector(timesteps)(encoded)\n",
    "decoded = LSTM(input_dim, activation='relu', return_sequences=True)(decoded)\n",
    "\n",
    "autoencoder = Model(input_layer, decoded)\n",
    "autoencoder.compile(optimizer='adam', loss='mse')\n",
    "\n",
    "# Train the autoencoder\n",
    "early_stopping = EarlyStopping(monitor='val_loss', patience=3, mode='min')\n",
    "autoencoder.fit(X_train, X_train, \n",
    "                epochs=50, \n",
    "                batch_size=32, \n",
    "                validation_split=0.2, \n",
    "                callbacks=[early_stopping],\n",
    "                verbose=1)\n",
    "\n",
    "print(\"Autoencoder trained successfully.\")"
   ]
  },
  {
   "cell_type": "code",
   "execution_count": 15,
   "metadata": {},
   "outputs": [
    {
     "name": "stdout",
     "output_type": "stream",
     "text": [
      "81661/81661 [==============================] - 397s 5ms/step\n",
      "20416/20416 [==============================] - 113s 6ms/step\n",
      "Reconstruction errors calculated.\n"
     ]
    }
   ],
   "source": [
    "# Function to calculate reconstruction error\n",
    "def get_reconstruction_error(autoencoder, data):\n",
    "    predictions = autoencoder.predict(data)\n",
    "    mse = np.mean(np.power(data - predictions, 2), axis=(1,2))\n",
    "    return mse\n",
    "\n",
    "# Get reconstruction errors for training and test data\n",
    "train_errors = get_reconstruction_error(autoencoder, X_train)\n",
    "test_errors = get_reconstruction_error(autoencoder, X_test)\n",
    "\n",
    "print(\"Reconstruction errors calculated.\")"
   ]
  },
  {
   "cell_type": "code",
   "execution_count": 16,
   "metadata": {},
   "outputs": [
    {
     "name": "stdout",
     "output_type": "stream",
     "text": [
      "New feature (reconstruction error) added to the datasets.\n",
      "Shape of training data with new feature: (2613121, 31)\n",
      "Shape of test data with new feature: (653281, 31)\n"
     ]
    }
   ],
   "source": [
    "# Add reconstruction error as a new feature\n",
    "X_train_with_error = np.column_stack((X_train.reshape(X_train.shape[0], -1), train_errors))\n",
    "X_test_with_error = np.column_stack((X_test.reshape(X_test.shape[0], -1), test_errors))\n",
    "\n",
    "print(\"New feature (reconstruction error) added to the datasets.\")\n",
    "print(f\"Shape of training data with new feature: {X_train_with_error.shape}\")\n",
    "print(f\"Shape of test data with new feature: {X_test_with_error.shape}\")"
   ]
  },
  {
   "cell_type": "code",
   "execution_count": 17,
   "metadata": {},
   "outputs": [
    {
     "name": "stdout",
     "output_type": "stream",
     "text": [
      "Epoch 1/10\n",
      "WARNING:tensorflow:From c:\\Users\\Eric\\anaconda3\\envs\\notebook_env\\Lib\\site-packages\\keras\\src\\engine\\base_layer_utils.py:384: The name tf.executing_eagerly_outside_functions is deprecated. Please use tf.compat.v1.executing_eagerly_outside_functions instead.\n",
      "\n",
      "65328/65328 [==============================] - 5105s 78ms/step - loss: 0.0054 - accuracy: 0.9986 - val_loss: 0.0031 - val_accuracy: 0.9992\n",
      "Epoch 2/10\n",
      "65328/65328 [==============================] - 2126s 33ms/step - loss: 0.0025 - accuracy: 0.9993 - val_loss: 0.0030 - val_accuracy: 0.9993\n",
      "Epoch 3/10\n",
      "65328/65328 [==============================] - 3643s 56ms/step - loss: 0.0019 - accuracy: 0.9995 - val_loss: 0.0017 - val_accuracy: 0.9995\n",
      "Epoch 4/10\n",
      "65328/65328 [==============================] - 22151s 339ms/step - loss: 0.0016 - accuracy: 0.9996 - val_loss: 0.0016 - val_accuracy: 0.9996\n",
      "Epoch 5/10\n",
      "65328/65328 [==============================] - 1981s 30ms/step - loss: 0.0014 - accuracy: 0.9996 - val_loss: 0.0042 - val_accuracy: 0.9983\n",
      "Epoch 6/10\n",
      "65328/65328 [==============================] - 2023s 31ms/step - loss: 0.0014 - accuracy: 0.9996 - val_loss: 0.0018 - val_accuracy: 0.9996\n",
      "Epoch 7/10\n",
      "65328/65328 [==============================] - 4441s 68ms/step - loss: 0.0014 - accuracy: 0.9997 - val_loss: 0.0014 - val_accuracy: 0.9997\n",
      "Epoch 8/10\n",
      "65328/65328 [==============================] - 1688s 26ms/step - loss: 0.0014 - accuracy: 0.9997 - val_loss: 0.0014 - val_accuracy: 0.9996\n",
      "Epoch 9/10\n",
      "65328/65328 [==============================] - 1702s 26ms/step - loss: 0.0015 - accuracy: 0.9996 - val_loss: 0.0013 - val_accuracy: 0.9997\n",
      "Epoch 10/10\n",
      "65328/65328 [==============================] - 1691s 26ms/step - loss: 0.0015 - accuracy: 0.9996 - val_loss: 0.0014 - val_accuracy: 0.9996\n",
      "RNN model trained with the new feature.\n"
     ]
    }
   ],
   "source": [
    "from tensorflow.keras.models import Sequential\n",
    "from tensorflow.keras.layers import LSTM, Dense, Dropout, Input\n",
    "from tensorflow.keras.callbacks import EarlyStopping\n",
    "\n",
    "# Adjust input shape to include the new feature\n",
    "input_shape = (X_train_with_error.shape[1], 1)\n",
    "\n",
    "# Define the RNN model\n",
    "rnn_model = Sequential([\n",
    "    Input(shape=input_shape),\n",
    "    LSTM(64, return_sequences=True),\n",
    "    Dropout(0.2),\n",
    "    LSTM(32),\n",
    "    Dropout(0.2),\n",
    "    Dense(16, activation='relu'),\n",
    "    Dense(1, activation='sigmoid')\n",
    "])\n",
    "\n",
    "rnn_model.compile(optimizer='adam', loss='binary_crossentropy', metrics=['accuracy'])\n",
    "\n",
    "# Train the model\n",
    "early_stopping = EarlyStopping(monitor='val_loss', patience=5, mode='min', restore_best_weights=True)\n",
    "history = rnn_model.fit(X_train_with_error.reshape(-1, input_shape[0], 1), y_train, \n",
    "                        epochs=10, \n",
    "                        batch_size=32, \n",
    "                        validation_split=0.2,\n",
    "                        callbacks=[early_stopping],\n",
    "                        verbose=1)\n",
    "\n",
    "print(\"RNN model trained with the new feature.\")"
   ]
  },
  {
   "cell_type": "code",
   "execution_count": 20,
   "metadata": {},
   "outputs": [
    {
     "name": "stdout",
     "output_type": "stream",
     "text": [
      "Model saved successfully.\n"
     ]
    }
   ],
   "source": [
    "# Save the entire model\n",
    "rnn_model.save('anomallyrnnlstmmodel.keras')\n",
    "\n",
    "print(\"Model saved successfully.\")"
   ]
  },
  {
   "cell_type": "code",
   "execution_count": 22,
   "metadata": {},
   "outputs": [
    {
     "name": "stdout",
     "output_type": "stream",
     "text": [
      "Test Loss: 0.0014\n",
      "Test Accuracy: 0.9996\n",
      "20416/20416 [==============================] - 325s 16ms/step\n",
      "              precision    recall  f1-score   support\n",
      "\n",
      "           0       0.98      1.00      0.99     11874\n",
      "           1       1.00      1.00      1.00    641407\n",
      "\n",
      "    accuracy                           1.00    653281\n",
      "   macro avg       0.99      1.00      0.99    653281\n",
      "weighted avg       1.00      1.00      1.00    653281\n",
      "\n"
     ]
    }
   ],
   "source": [
    "# Evaluate the model\n",
    "loss, accuracy = rnn_model.evaluate(X_test_with_error.reshape(-1, input_shape[0], 1), y_test, verbose=0)\n",
    "print(f\"Test Loss: {loss:.4f}\")\n",
    "print(f\"Test Accuracy: {accuracy:.4f}\")\n",
    "\n",
    "# Make predictions\n",
    "y_pred = rnn_model.predict(X_test_with_error.reshape(-1, input_shape[0], 1))\n",
    "y_pred_classes = (y_pred > 0.5).astype(int)\n",
    "\n",
    "# Print classification report\n",
    "from sklearn.metrics import classification_report\n",
    "print(classification_report(y_test, y_pred_classes))"
   ]
  },
  {
   "cell_type": "markdown",
   "metadata": {},
   "source": [
    "High Performance: The model shows excellent performance with an accuracy of 99.96%. This is extremely high and indicates that the model is very good at distinguishing between normal traffic and DDoS attacks.\n",
    "Balanced Performance: The model performs well on both classes. It's particularly strong in identifying DDoS attacks (Class 1) with perfect precision and recall.\n",
    "Slight Improvement in Normal Traffic Detection: For Class 0 (Normal Traffic), the precision is 0.98, which is very good. The recall of 1.00 suggests that the model is not missing any normal traffic instances.\n",
    "Low False Positive Rate: The high precision for Class 0 (0.98) indicates a low false positive rate, which is crucial in a real-world scenario to avoid unnecessary alarms."
   ]
  },
  {
   "cell_type": "code",
   "execution_count": 23,
   "metadata": {},
   "outputs": [
    {
     "data": {
      "image/png": "[encoded data removed]",
      "text/plain": [
       "<Figure size 1200x400 with 2 Axes>"
      ]
     },
     "metadata": {},
     "output_type": "display_data"
    }
   ],
   "source": [
    "import matplotlib.pyplot as plt\n",
    "\n",
    "plt.figure(figsize=(12, 4))\n",
    "\n",
    "plt.subplot(121)\n",
    "plt.plot(history.history['accuracy'], label='Train Accuracy')\n",
    "plt.plot(history.history['val_accuracy'], label='Validation Accuracy')\n",
    "plt.title('Model Accuracy')\n",
    "plt.xlabel('Epoch')\n",
    "plt.ylabel('Accuracy')\n",
    "plt.legend()\n",
    "\n",
    "plt.subplot(122)\n",
    "plt.plot(history.history['loss'], label='Train Loss')\n",
    "plt.plot(history.history['val_loss'], label='Validation Loss')\n",
    "plt.title('Model Loss')\n",
    "plt.xlabel('Epoch')\n",
    "plt.ylabel('Loss')\n",
    "plt.legend()\n",
    "\n",
    "plt.tight_layout()\n",
    "plt.show()"
   ]
  },
  {
   "cell_type": "markdown",
   "metadata": {},
   "source": [
    "High Initial Performance: The model starts with very high accuracy, suggesting that the features (including the new autoencoder feature) are highly informative for DDoS detection.\n",
    "Consistent Improvement: Both accuracy and loss improve over time, indicating that the model is learning effectively from the data.\n",
    "Good Generalization: The close tracking of training and validation metrics suggests the model is generalizing well and not overfitting to the training data.\n",
    "Quick Recovery: The model quickly recovers from the temporary performance dip around epoch 4, demonstrating resilience in learning"
   ]
  },
  {
   "cell_type": "code",
   "execution_count": 24,
   "metadata": {},
   "outputs": [
    {
     "name": "stdout",
     "output_type": "stream",
     "text": [
      "True Negatives (TN): 11832\n",
      "False Positives (FP): 42\n",
      "False Negatives (FN): 213\n",
      "True Positives (TP): 641194\n",
      "\n",
      "Accuracy: 0.9996\n",
      "Precision: 0.9999\n",
      "Recall (Sensitivity): 0.9997\n",
      "Specificity: 0.9965\n",
      "F1-score: 0.9998\n"
     ]
    }
   ],
   "source": [
    "from sklearn.metrics import confusion_matrix\n",
    "import numpy as np\n",
    "\n",
    "# Assuming y_test and y_pred_classes are already defined\n",
    "cm = confusion_matrix(y_test, y_pred_classes)\n",
    "\n",
    "# Extract values from the confusion matrix\n",
    "tn, fp, fn, tp = cm.ravel()\n",
    "\n",
    "# Calculate additional metrics\n",
    "accuracy = (tp + tn) / (tp + tn + fp + fn)\n",
    "precision = tp / (tp + fp)\n",
    "recall = tp / (tp + fn)\n",
    "f1_score = 2 * (precision * recall) / (precision + recall)\n",
    "specificity = tn / (tn + fp)\n",
    "\n",
    "# Print results\n",
    "print(f\"True Negatives (TN): {tn}\")\n",
    "print(f\"False Positives (FP): {fp}\")\n",
    "print(f\"False Negatives (FN): {fn}\")\n",
    "print(f\"True Positives (TP): {tp}\")\n",
    "print(f\"\\nAccuracy: {accuracy:.4f}\")\n",
    "print(f\"Precision: {precision:.4f}\")\n",
    "print(f\"Recall (Sensitivity): {recall:.4f}\")\n",
    "print(f\"Specificity: {specificity:.4f}\")\n",
    "print(f\"F1-score: {f1_score:.4f}\")"
   ]
  },
  {
   "cell_type": "markdown",
   "metadata": {},
   "source": [
    "True Negatives (TN): 11,832\n",
    "\n",
    "These are correctly identified normal traffic instances.\n",
    "This indicates your model is good at recognizing normal network behavior.\n",
    "\n",
    "\n",
    "False Positives (FP): 42\n",
    "\n",
    "These are normal traffic instances incorrectly flagged as DDoS attacks.\n",
    "While low, these could lead to unnecessary alerts or actions in a real system.\n",
    "\n",
    "\n",
    "False Negatives (FN): 213\n",
    "\n",
    "These are DDoS attacks that the model failed to detect.\n",
    "This is the most concerning metric, as missed attacks could be harmful.\n",
    "\n",
    "\n",
    "True Positives (TP): 641,194\n",
    "\n",
    "Correctly identified DDoS attacks.\n",
    "The high number shows the model is very effective at detecting attacks.\n",
    "\n",
    "\n",
    "Accuracy: 0.9996 (99.96%)\n",
    "\n",
    "Overall, the model is correct 99.96% of the time, which is excellent.\n",
    "\n",
    "\n",
    "Precision: 0.9999 (99.99%)\n",
    "\n",
    "Out of all instances the model flagged as attacks, 99.99% were actual attacks.\n",
    "This indicates very few false alarms.\n",
    "\n",
    "\n",
    "Recall (Sensitivity): 0.9997 (99.97%)\n",
    "\n",
    "The model detected 99.97% of all actual DDoS attacks in the dataset.\n",
    "This high recall is crucial for a security system.\n",
    "\n",
    "\n",
    "Specificity: 0.9965 (99.65%)\n",
    "\n",
    "The model correctly identified 99.65% of normal traffic.\n",
    "Slightly lower than recall, but still very good.\n",
    "\n",
    "\n",
    "F1-score: 0.9998 (99.98%)\n",
    "\n",
    "This balanced measure of precision and recall is extremely high."
   ]
  },
  {
   "cell_type": "markdown",
   "metadata": {},
   "source": [
    "Overall Performance: The model shows excellent performance across all metrics.\n",
    "Class Imbalance: There's a significant imbalance (11,874 normal vs 641,407 attack instances). Despite this, the model performs well on both classes.\n",
    "False Negatives: While low (213), these are the most concerning errors. In a real-world scenario, these represent undetected attacks.\n",
    "False Positives: Also low (42), these could lead to some unnecessary alerts but are manageable.\n",
    "Precision vs Recall: The model has slightly higher precision than recall, indicating it's marginally more likely to miss an attack than to raise a false alarm."
   ]
  }
 ],
 "metadata": {
  "kernelspec": {
   "display_name": "notebook_env",
   "language": "python",
   "name": "python3"
  },
  "language_info": {
   "codemirror_mode": {
    "name": "ipython",
    "version": 3
   },
   "file_extension": ".py",
   "mimetype": "text/x-python",
   "name": "python",
   "nbconvert_exporter": "python",
   "pygments_lexer": "ipython3",
   "version": "3.11.5"
  }
 },
 "nbformat": 4,
 "nbformat_minor": 2
}
