{
 "cells": [
  {
   "cell_type": "code",
   "execution_count": 46,
   "metadata": {},
   "outputs": [],
   "source": [
    "import pandas as pd\n",
    "\n",
    "import numpy as np \n",
    "\n",
    "import matplotlib.pyplot as plt  \n",
    "\n",
    "import seaborn as sns"
   ]
  },
  {
   "cell_type": "code",
   "execution_count": 47,
   "metadata": {},
   "outputs": [
    {
     "name": "stderr",
     "output_type": "stream",
     "text": [
      "C:\\Users\\Eric\\AppData\\Local\\Temp\\ipykernel_14048\\3503835977.py:3: DtypeWarning: Columns (85) have mixed types. Specify dtype option on import or set low_memory=False.\n",
      "  data = pd.read_csv(file_path)\n"
     ]
    },
    {
     "data": {
      "text/html": [
       "<div>\n",
       "<style scoped>\n",
       "    .dataframe tbody tr th:only-of-type {\n",
       "        vertical-align: middle;\n",
       "    }\n",
       "\n",
       "    .dataframe tbody tr th {\n",
       "        vertical-align: top;\n",
       "    }\n",
       "\n",
       "    .dataframe thead th {\n",
       "        text-align: right;\n",
       "    }\n",
       "</style>\n",
       "<table border=\"1\" class=\"dataframe\">\n",
       "  <thead>\n",
       "    <tr style=\"text-align: right;\">\n",
       "      <th></th>\n",
       "      <th>Unnamed: 0</th>\n",
       "      <th>Flow ID</th>\n",
       "      <th>Source IP</th>\n",
       "      <th>Source Port</th>\n",
       "      <th>Destination IP</th>\n",
       "      <th>Destination Port</th>\n",
       "      <th>Protocol</th>\n",
       "      <th>Timestamp</th>\n",
       "      <th>Flow Duration</th>\n",
       "      <th>Total Fwd Packets</th>\n",
       "      <th>...</th>\n",
       "      <th>Active Std</th>\n",
       "      <th>Active Max</th>\n",
       "      <th>Active Min</th>\n",
       "      <th>Idle Mean</th>\n",
       "      <th>Idle Std</th>\n",
       "      <th>Idle Max</th>\n",
       "      <th>Idle Min</th>\n",
       "      <th>SimillarHTTP</th>\n",
       "      <th>Inbound</th>\n",
       "      <th>Label</th>\n",
       "    </tr>\n",
       "  </thead>\n",
       "  <tbody>\n",
       "    <tr>\n",
       "      <th>0</th>\n",
       "      <td>32452</td>\n",
       "      <td>172.16.0.5-192.168.50.1-1011-30217-17</td>\n",
       "      <td>172.16.0.5</td>\n",
       "      <td>1011</td>\n",
       "      <td>192.168.50.1</td>\n",
       "      <td>30217</td>\n",
       "      <td>17</td>\n",
       "      <td>2018-12-01 11:24:50.037167</td>\n",
       "      <td>1</td>\n",
       "      <td>2</td>\n",
       "      <td>...</td>\n",
       "      <td>0.0</td>\n",
       "      <td>0.0</td>\n",
       "      <td>0.0</td>\n",
       "      <td>0.0</td>\n",
       "      <td>0.0</td>\n",
       "      <td>0.0</td>\n",
       "      <td>0.0</td>\n",
       "      <td>0</td>\n",
       "      <td>1</td>\n",
       "      <td>DrDoS_LDAP</td>\n",
       "    </tr>\n",
       "    <tr>\n",
       "      <th>1</th>\n",
       "      <td>41836</td>\n",
       "      <td>172.16.0.5-192.168.50.1-572-60094-17</td>\n",
       "      <td>172.16.0.5</td>\n",
       "      <td>572</td>\n",
       "      <td>192.168.50.1</td>\n",
       "      <td>60094</td>\n",
       "      <td>17</td>\n",
       "      <td>2018-12-01 12:14:22.545861</td>\n",
       "      <td>2</td>\n",
       "      <td>2</td>\n",
       "      <td>...</td>\n",
       "      <td>0.0</td>\n",
       "      <td>0.0</td>\n",
       "      <td>0.0</td>\n",
       "      <td>0.0</td>\n",
       "      <td>0.0</td>\n",
       "      <td>0.0</td>\n",
       "      <td>0.0</td>\n",
       "      <td>0</td>\n",
       "      <td>1</td>\n",
       "      <td>DrDoS_SNMP</td>\n",
       "    </tr>\n",
       "    <tr>\n",
       "      <th>2</th>\n",
       "      <td>2695</td>\n",
       "      <td>172.16.0.5-192.168.50.1-676-43803-17</td>\n",
       "      <td>172.16.0.5</td>\n",
       "      <td>676</td>\n",
       "      <td>192.168.50.1</td>\n",
       "      <td>43803</td>\n",
       "      <td>17</td>\n",
       "      <td>2018-12-01 10:38:56.749612</td>\n",
       "      <td>203</td>\n",
       "      <td>52</td>\n",
       "      <td>...</td>\n",
       "      <td>0.0</td>\n",
       "      <td>0.0</td>\n",
       "      <td>0.0</td>\n",
       "      <td>0.0</td>\n",
       "      <td>0.0</td>\n",
       "      <td>0.0</td>\n",
       "      <td>0.0</td>\n",
       "      <td>0</td>\n",
       "      <td>1</td>\n",
       "      <td>DrDoS_NTP</td>\n",
       "    </tr>\n",
       "    <tr>\n",
       "      <th>3</th>\n",
       "      <td>103799</td>\n",
       "      <td>172.16.0.5-192.168.50.1-62478-10715-17</td>\n",
       "      <td>172.16.0.5</td>\n",
       "      <td>62478</td>\n",
       "      <td>192.168.50.1</td>\n",
       "      <td>10715</td>\n",
       "      <td>17</td>\n",
       "      <td>2018-12-01 13:49:26.909740</td>\n",
       "      <td>0</td>\n",
       "      <td>2</td>\n",
       "      <td>...</td>\n",
       "      <td>0.0</td>\n",
       "      <td>0.0</td>\n",
       "      <td>0.0</td>\n",
       "      <td>0.0</td>\n",
       "      <td>0.0</td>\n",
       "      <td>0.0</td>\n",
       "      <td>0.0</td>\n",
       "      <td>0</td>\n",
       "      <td>1</td>\n",
       "      <td>TFTP</td>\n",
       "    </tr>\n",
       "    <tr>\n",
       "      <th>4</th>\n",
       "      <td>121183</td>\n",
       "      <td>172.16.0.5-192.168.50.1-35561-29716-17</td>\n",
       "      <td>172.16.0.5</td>\n",
       "      <td>35561</td>\n",
       "      <td>192.168.50.1</td>\n",
       "      <td>29716</td>\n",
       "      <td>17</td>\n",
       "      <td>2018-12-01 13:04:38.438546</td>\n",
       "      <td>104757</td>\n",
       "      <td>4</td>\n",
       "      <td>...</td>\n",
       "      <td>0.0</td>\n",
       "      <td>0.0</td>\n",
       "      <td>0.0</td>\n",
       "      <td>0.0</td>\n",
       "      <td>0.0</td>\n",
       "      <td>0.0</td>\n",
       "      <td>0.0</td>\n",
       "      <td>0</td>\n",
       "      <td>1</td>\n",
       "      <td>DrDoS_UDP</td>\n",
       "    </tr>\n",
       "  </tbody>\n",
       "</table>\n",
       "<p>5 rows × 88 columns</p>\n",
       "</div>"
      ],
      "text/plain": [
       "   Unnamed: 0                                 Flow ID   Source IP  \\\n",
       "0       32452   172.16.0.5-192.168.50.1-1011-30217-17  172.16.0.5   \n",
       "1       41836    172.16.0.5-192.168.50.1-572-60094-17  172.16.0.5   \n",
       "2        2695    172.16.0.5-192.168.50.1-676-43803-17  172.16.0.5   \n",
       "3      103799  172.16.0.5-192.168.50.1-62478-10715-17  172.16.0.5   \n",
       "4      121183  172.16.0.5-192.168.50.1-35561-29716-17  172.16.0.5   \n",
       "\n",
       "    Source Port  Destination IP   Destination Port   Protocol  \\\n",
       "0          1011    192.168.50.1              30217         17   \n",
       "1           572    192.168.50.1              60094         17   \n",
       "2           676    192.168.50.1              43803         17   \n",
       "3         62478    192.168.50.1              10715         17   \n",
       "4         35561    192.168.50.1              29716         17   \n",
       "\n",
       "                    Timestamp   Flow Duration   Total Fwd Packets  ...  \\\n",
       "0  2018-12-01 11:24:50.037167               1                   2  ...   \n",
       "1  2018-12-01 12:14:22.545861               2                   2  ...   \n",
       "2  2018-12-01 10:38:56.749612             203                  52  ...   \n",
       "3  2018-12-01 13:49:26.909740               0                   2  ...   \n",
       "4  2018-12-01 13:04:38.438546          104757                   4  ...   \n",
       "\n",
       "    Active Std   Active Max   Active Min  Idle Mean   Idle Std   Idle Max  \\\n",
       "0          0.0          0.0          0.0        0.0        0.0        0.0   \n",
       "1          0.0          0.0          0.0        0.0        0.0        0.0   \n",
       "2          0.0          0.0          0.0        0.0        0.0        0.0   \n",
       "3          0.0          0.0          0.0        0.0        0.0        0.0   \n",
       "4          0.0          0.0          0.0        0.0        0.0        0.0   \n",
       "\n",
       "    Idle Min  SimillarHTTP   Inbound       Label  \n",
       "0        0.0             0         1  DrDoS_LDAP  \n",
       "1        0.0             0         1  DrDoS_SNMP  \n",
       "2        0.0             0         1   DrDoS_NTP  \n",
       "3        0.0             0         1        TFTP  \n",
       "4        0.0             0         1   DrDoS_UDP  \n",
       "\n",
       "[5 rows x 88 columns]"
      ]
     },
     "execution_count": 47,
     "metadata": {},
     "output_type": "execute_result"
    }
   ],
   "source": [
    "file_path = (\"data/processed/ddos_train_data.csv\")\n",
    "\n",
    "data = pd.read_csv(file_path)\n",
    "\n",
    "data.head()"
   ]
  },
  {
   "cell_type": "code",
   "execution_count": 48,
   "metadata": {},
   "outputs": [
    {
     "name": "stdout",
     "output_type": "stream",
     "text": [
      "<class 'pandas.core.frame.DataFrame'>\n",
      "RangeIndex: 3391694 entries, 0 to 3391693\n",
      "Data columns (total 88 columns):\n",
      " #   Column                        Dtype  \n",
      "---  ------                        -----  \n",
      " 0   Unnamed: 0                    int64  \n",
      " 1   Flow ID                       object \n",
      " 2    Source IP                    object \n",
      " 3    Source Port                  int64  \n",
      " 4    Destination IP               object \n",
      " 5    Destination Port             int64  \n",
      " 6    Protocol                     int64  \n",
      " 7    Timestamp                    object \n",
      " 8    Flow Duration                int64  \n",
      " 9    Total Fwd Packets            int64  \n",
      " 10   Total Backward Packets       int64  \n",
      " 11  Total Length of Fwd Packets   float64\n",
      " 12   Total Length of Bwd Packets  float64\n",
      " 13   Fwd Packet Length Max        float64\n",
      " 14   Fwd Packet Length Min        float64\n",
      " 15   Fwd Packet Length Mean       float64\n",
      " 16   Fwd Packet Length Std        float64\n",
      " 17  Bwd Packet Length Max         float64\n",
      " 18   Bwd Packet Length Min        float64\n",
      " 19   Bwd Packet Length Mean       float64\n",
      " 20   Bwd Packet Length Std        float64\n",
      " 21  Flow Bytes/s                  float64\n",
      " 22   Flow Packets/s               float64\n",
      " 23   Flow IAT Mean                float64\n",
      " 24   Flow IAT Std                 float64\n",
      " 25   Flow IAT Max                 float64\n",
      " 26   Flow IAT Min                 float64\n",
      " 27  Fwd IAT Total                 float64\n",
      " 28   Fwd IAT Mean                 float64\n",
      " 29   Fwd IAT Std                  float64\n",
      " 30   Fwd IAT Max                  float64\n",
      " 31   Fwd IAT Min                  float64\n",
      " 32  Bwd IAT Total                 float64\n",
      " 33   Bwd IAT Mean                 float64\n",
      " 34   Bwd IAT Std                  float64\n",
      " 35   Bwd IAT Max                  float64\n",
      " 36   Bwd IAT Min                  float64\n",
      " 37  Fwd PSH Flags                 int64  \n",
      " 38   Bwd PSH Flags                int64  \n",
      " 39   Fwd URG Flags                int64  \n",
      " 40   Bwd URG Flags                int64  \n",
      " 41   Fwd Header Length            int64  \n",
      " 42   Bwd Header Length            int64  \n",
      " 43  Fwd Packets/s                 float64\n",
      " 44   Bwd Packets/s                float64\n",
      " 45   Min Packet Length            float64\n",
      " 46   Max Packet Length            float64\n",
      " 47   Packet Length Mean           float64\n",
      " 48   Packet Length Std            float64\n",
      " 49   Packet Length Variance       float64\n",
      " 50  FIN Flag Count                int64  \n",
      " 51   SYN Flag Count               int64  \n",
      " 52   RST Flag Count               int64  \n",
      " 53   PSH Flag Count               int64  \n",
      " 54   ACK Flag Count               int64  \n",
      " 55   URG Flag Count               int64  \n",
      " 56   CWE Flag Count               int64  \n",
      " 57   ECE Flag Count               int64  \n",
      " 58   Down/Up Ratio                float64\n",
      " 59   Average Packet Size          float64\n",
      " 60   Avg Fwd Segment Size         float64\n",
      " 61   Avg Bwd Segment Size         float64\n",
      " 62   Fwd Header Length.1          int64  \n",
      " 63  Fwd Avg Bytes/Bulk            int64  \n",
      " 64   Fwd Avg Packets/Bulk         int64  \n",
      " 65   Fwd Avg Bulk Rate            int64  \n",
      " 66   Bwd Avg Bytes/Bulk           int64  \n",
      " 67   Bwd Avg Packets/Bulk         int64  \n",
      " 68  Bwd Avg Bulk Rate             int64  \n",
      " 69  Subflow Fwd Packets           int64  \n",
      " 70   Subflow Fwd Bytes            int64  \n",
      " 71   Subflow Bwd Packets          int64  \n",
      " 72   Subflow Bwd Bytes            int64  \n",
      " 73  Init_Win_bytes_forward        int64  \n",
      " 74   Init_Win_bytes_backward      int64  \n",
      " 75   act_data_pkt_fwd             int64  \n",
      " 76   min_seg_size_forward         int64  \n",
      " 77  Active Mean                   float64\n",
      " 78   Active Std                   float64\n",
      " 79   Active Max                   float64\n",
      " 80   Active Min                   float64\n",
      " 81  Idle Mean                     float64\n",
      " 82   Idle Std                     float64\n",
      " 83   Idle Max                     float64\n",
      " 84   Idle Min                     float64\n",
      " 85  SimillarHTTP                  object \n",
      " 86   Inbound                      int64  \n",
      " 87   Label                        object \n",
      "dtypes: float64(45), int64(37), object(6)\n",
      "memory usage: 2.2+ GB\n"
     ]
    }
   ],
   "source": [
    "data.info()"
   ]
  },
  {
   "cell_type": "code",
   "execution_count": 49,
   "metadata": {},
   "outputs": [
    {
     "data": {
      "text/plain": [
       " Label\n",
       "Syn              291027\n",
       "DrDoS_SSDP       290667\n",
       "DrDoS_SNMP       289944\n",
       "DrDoS_LDAP       289842\n",
       "DrDoS_NetBIOS    289750\n",
       "DrDoS_MSSQL      289460\n",
       "DrDoS_UDP        289313\n",
       "DrDoS_DNS        288104\n",
       "UDP-lag          287461\n",
       "DrDoS_NTP        277455\n",
       "TFTP             266884\n",
       "Portmap          181606\n",
       "BENIGN            59833\n",
       "WebDDoS             348\n",
       "Name: count, dtype: int64"
      ]
     },
     "execution_count": 49,
     "metadata": {},
     "output_type": "execute_result"
    }
   ],
   "source": [
    "data[' Label'].value_counts()"
   ]
  },
  {
   "cell_type": "code",
   "execution_count": 50,
   "metadata": {},
   "outputs": [],
   "source": [
    "data.columns = data.columns.str.strip()"
   ]
  },
  {
   "cell_type": "code",
   "execution_count": 51,
   "metadata": {},
   "outputs": [
    {
     "data": {
      "text/plain": [
       "Label\n",
       "Syn              291027\n",
       "DrDoS_SSDP       290667\n",
       "DrDoS_SNMP       289944\n",
       "DrDoS_LDAP       289842\n",
       "DrDoS_NetBIOS    289750\n",
       "DrDoS_MSSQL      289460\n",
       "DrDoS_UDP        289313\n",
       "DrDoS_DNS        288104\n",
       "UDP-lag          287461\n",
       "DrDoS_NTP        277455\n",
       "TFTP             266884\n",
       "Portmap          181606\n",
       "BENIGN            59833\n",
       "WebDDoS             348\n",
       "Name: count, dtype: int64"
      ]
     },
     "execution_count": 51,
     "metadata": {},
     "output_type": "execute_result"
    }
   ],
   "source": [
    "data['Label'].value_counts()"
   ]
  },
  {
   "cell_type": "code",
   "execution_count": 52,
   "metadata": {},
   "outputs": [
    {
     "name": "stdout",
     "output_type": "stream",
     "text": [
      "<class 'pandas.core.frame.DataFrame'>\n",
      "RangeIndex: 3391694 entries, 0 to 3391693\n",
      "Data columns (total 88 columns):\n",
      " #   Column                       Dtype  \n",
      "---  ------                       -----  \n",
      " 0   Unnamed: 0                   int64  \n",
      " 1   Flow ID                      object \n",
      " 2   Source IP                    object \n",
      " 3   Source Port                  int64  \n",
      " 4   Destination IP               object \n",
      " 5   Destination Port             int64  \n",
      " 6   Protocol                     int64  \n",
      " 7   Timestamp                    object \n",
      " 8   Flow Duration                int64  \n",
      " 9   Total Fwd Packets            int64  \n",
      " 10  Total Backward Packets       int64  \n",
      " 11  Total Length of Fwd Packets  float64\n",
      " 12  Total Length of Bwd Packets  float64\n",
      " 13  Fwd Packet Length Max        float64\n",
      " 14  Fwd Packet Length Min        float64\n",
      " 15  Fwd Packet Length Mean       float64\n",
      " 16  Fwd Packet Length Std        float64\n",
      " 17  Bwd Packet Length Max        float64\n",
      " 18  Bwd Packet Length Min        float64\n",
      " 19  Bwd Packet Length Mean       float64\n",
      " 20  Bwd Packet Length Std        float64\n",
      " 21  Flow Bytes/s                 float64\n",
      " 22  Flow Packets/s               float64\n",
      " 23  Flow IAT Mean                float64\n",
      " 24  Flow IAT Std                 float64\n",
      " 25  Flow IAT Max                 float64\n",
      " 26  Flow IAT Min                 float64\n",
      " 27  Fwd IAT Total                float64\n",
      " 28  Fwd IAT Mean                 float64\n",
      " 29  Fwd IAT Std                  float64\n",
      " 30  Fwd IAT Max                  float64\n",
      " 31  Fwd IAT Min                  float64\n",
      " 32  Bwd IAT Total                float64\n",
      " 33  Bwd IAT Mean                 float64\n",
      " 34  Bwd IAT Std                  float64\n",
      " 35  Bwd IAT Max                  float64\n",
      " 36  Bwd IAT Min                  float64\n",
      " 37  Fwd PSH Flags                int64  \n",
      " 38  Bwd PSH Flags                int64  \n",
      " 39  Fwd URG Flags                int64  \n",
      " 40  Bwd URG Flags                int64  \n",
      " 41  Fwd Header Length            int64  \n",
      " 42  Bwd Header Length            int64  \n",
      " 43  Fwd Packets/s                float64\n",
      " 44  Bwd Packets/s                float64\n",
      " 45  Min Packet Length            float64\n",
      " 46  Max Packet Length            float64\n",
      " 47  Packet Length Mean           float64\n",
      " 48  Packet Length Std            float64\n",
      " 49  Packet Length Variance       float64\n",
      " 50  FIN Flag Count               int64  \n",
      " 51  SYN Flag Count               int64  \n",
      " 52  RST Flag Count               int64  \n",
      " 53  PSH Flag Count               int64  \n",
      " 54  ACK Flag Count               int64  \n",
      " 55  URG Flag Count               int64  \n",
      " 56  CWE Flag Count               int64  \n",
      " 57  ECE Flag Count               int64  \n",
      " 58  Down/Up Ratio                float64\n",
      " 59  Average Packet Size          float64\n",
      " 60  Avg Fwd Segment Size         float64\n",
      " 61  Avg Bwd Segment Size         float64\n",
      " 62  Fwd Header Length.1          int64  \n",
      " 63  Fwd Avg Bytes/Bulk           int64  \n",
      " 64  Fwd Avg Packets/Bulk         int64  \n",
      " 65  Fwd Avg Bulk Rate            int64  \n",
      " 66  Bwd Avg Bytes/Bulk           int64  \n",
      " 67  Bwd Avg Packets/Bulk         int64  \n",
      " 68  Bwd Avg Bulk Rate            int64  \n",
      " 69  Subflow Fwd Packets          int64  \n",
      " 70  Subflow Fwd Bytes            int64  \n",
      " 71  Subflow Bwd Packets          int64  \n",
      " 72  Subflow Bwd Bytes            int64  \n",
      " 73  Init_Win_bytes_forward       int64  \n",
      " 74  Init_Win_bytes_backward      int64  \n",
      " 75  act_data_pkt_fwd             int64  \n",
      " 76  min_seg_size_forward         int64  \n",
      " 77  Active Mean                  float64\n",
      " 78  Active Std                   float64\n",
      " 79  Active Max                   float64\n",
      " 80  Active Min                   float64\n",
      " 81  Idle Mean                    float64\n",
      " 82  Idle Std                     float64\n",
      " 83  Idle Max                     float64\n",
      " 84  Idle Min                     float64\n",
      " 85  SimillarHTTP                 object \n",
      " 86  Inbound                      int64  \n",
      " 87  Label                        object \n",
      "dtypes: float64(45), int64(37), object(6)\n",
      "memory usage: 2.2+ GB\n"
     ]
    }
   ],
   "source": [
    "data.info()"
   ]
  },
  {
   "cell_type": "code",
   "execution_count": 53,
   "metadata": {},
   "outputs": [
    {
     "name": "stdout",
     "output_type": "stream",
     "text": [
      "<class 'pandas.core.frame.DataFrame'>\n",
      "RangeIndex: 3391694 entries, 0 to 3391693\n",
      "Data columns (total 88 columns):\n",
      " #   Column                       Dtype  \n",
      "---  ------                       -----  \n",
      " 0   Unnamed: 0                   int64  \n",
      " 1   Flow ID                      object \n",
      " 2   Source IP                    object \n",
      " 3   Source Port                  int64  \n",
      " 4   Destination IP               object \n",
      " 5   Destination Port             int64  \n",
      " 6   Protocol                     int64  \n",
      " 7   Timestamp                    object \n",
      " 8   Flow Duration                int64  \n",
      " 9   Total Fwd Packets            int64  \n",
      " 10  Total Backward Packets       int64  \n",
      " 11  Total Length of Fwd Packets  float64\n",
      " 12  Total Length of Bwd Packets  float64\n",
      " 13  Fwd Packet Length Max        float64\n",
      " 14  Fwd Packet Length Min        float64\n",
      " 15  Fwd Packet Length Mean       float64\n",
      " 16  Fwd Packet Length Std        float64\n",
      " 17  Bwd Packet Length Max        float64\n",
      " 18  Bwd Packet Length Min        float64\n",
      " 19  Bwd Packet Length Mean       float64\n",
      " 20  Bwd Packet Length Std        float64\n",
      " 21  Flow Bytes/s                 float64\n",
      " 22  Flow Packets/s               float64\n",
      " 23  Flow IAT Mean                float64\n",
      " 24  Flow IAT Std                 float64\n",
      " 25  Flow IAT Max                 float64\n",
      " 26  Flow IAT Min                 float64\n",
      " 27  Fwd IAT Total                float64\n",
      " 28  Fwd IAT Mean                 float64\n",
      " 29  Fwd IAT Std                  float64\n",
      " 30  Fwd IAT Max                  float64\n",
      " 31  Fwd IAT Min                  float64\n",
      " 32  Bwd IAT Total                float64\n",
      " 33  Bwd IAT Mean                 float64\n",
      " 34  Bwd IAT Std                  float64\n",
      " 35  Bwd IAT Max                  float64\n",
      " 36  Bwd IAT Min                  float64\n",
      " 37  Fwd PSH Flags                int64  \n",
      " 38  Bwd PSH Flags                int64  \n",
      " 39  Fwd URG Flags                int64  \n",
      " 40  Bwd URG Flags                int64  \n",
      " 41  Fwd Header Length            int64  \n",
      " 42  Bwd Header Length            int64  \n",
      " 43  Fwd Packets/s                float64\n",
      " 44  Bwd Packets/s                float64\n",
      " 45  Min Packet Length            float64\n",
      " 46  Max Packet Length            float64\n",
      " 47  Packet Length Mean           float64\n",
      " 48  Packet Length Std            float64\n",
      " 49  Packet Length Variance       float64\n",
      " 50  FIN Flag Count               int64  \n",
      " 51  SYN Flag Count               int64  \n",
      " 52  RST Flag Count               int64  \n",
      " 53  PSH Flag Count               int64  \n",
      " 54  ACK Flag Count               int64  \n",
      " 55  URG Flag Count               int64  \n",
      " 56  CWE Flag Count               int64  \n",
      " 57  ECE Flag Count               int64  \n",
      " 58  Down/Up Ratio                float64\n",
      " 59  Average Packet Size          float64\n",
      " 60  Avg Fwd Segment Size         float64\n",
      " 61  Avg Bwd Segment Size         float64\n",
      " 62  Fwd Header Length.1          int64  \n",
      " 63  Fwd Avg Bytes/Bulk           int64  \n",
      " 64  Fwd Avg Packets/Bulk         int64  \n",
      " 65  Fwd Avg Bulk Rate            int64  \n",
      " 66  Bwd Avg Bytes/Bulk           int64  \n",
      " 67  Bwd Avg Packets/Bulk         int64  \n",
      " 68  Bwd Avg Bulk Rate            int64  \n",
      " 69  Subflow Fwd Packets          int64  \n",
      " 70  Subflow Fwd Bytes            int64  \n",
      " 71  Subflow Bwd Packets          int64  \n",
      " 72  Subflow Bwd Bytes            int64  \n",
      " 73  Init_Win_bytes_forward       int64  \n",
      " 74  Init_Win_bytes_backward      int64  \n",
      " 75  act_data_pkt_fwd             int64  \n",
      " 76  min_seg_size_forward         int64  \n",
      " 77  Active Mean                  float64\n",
      " 78  Active Std                   float64\n",
      " 79  Active Max                   float64\n",
      " 80  Active Min                   float64\n",
      " 81  Idle Mean                    float64\n",
      " 82  Idle Std                     float64\n",
      " 83  Idle Max                     float64\n",
      " 84  Idle Min                     float64\n",
      " 85  SimillarHTTP                 object \n",
      " 86  Inbound                      int64  \n",
      " 87  Label                        object \n",
      "dtypes: float64(45), int64(37), object(6)\n",
      "memory usage: 2.2+ GB\n"
     ]
    }
   ],
   "source": [
    "data.info()"
   ]
  },
  {
   "cell_type": "code",
   "execution_count": 54,
   "metadata": {},
   "outputs": [
    {
     "data": {
      "text/plain": [
       "Unnamed: 0        0\n",
       "Flow ID           0\n",
       "Source IP         0\n",
       "Source Port       0\n",
       "Destination IP    0\n",
       "                 ..\n",
       "Idle Max          0\n",
       "Idle Min          0\n",
       "SimillarHTTP      0\n",
       "Inbound           0\n",
       "Label             0\n",
       "Length: 88, dtype: int64"
      ]
     },
     "execution_count": 54,
     "metadata": {},
     "output_type": "execute_result"
    }
   ],
   "source": [
    "data.isnull().sum()"
   ]
  },
  {
   "cell_type": "code",
   "execution_count": 55,
   "metadata": {},
   "outputs": [
    {
     "name": "stdout",
     "output_type": "stream",
     "text": [
      "Columns with null values:\n",
      "Flow Bytes/s    65812\n",
      "dtype: int64\n",
      "\n",
      "Total number of null values: 65812\n",
      "\n",
      "Percentage of null values in each column:\n",
      "Flow Bytes/s    1.940387\n",
      "dtype: float64\n",
      "\n",
      "Rows removed: 65812\n",
      "Percentage of data removed: 1.94%\n",
      "\n",
      "Shape of dataframe after removing null values: (3325882, 88)\n",
      "\n",
      "First few rows of the cleaned dataframe:\n",
      "   Unnamed: 0                                 Flow ID   Source IP  \\\n",
      "0       32452   172.16.0.5-192.168.50.1-1011-30217-17  172.16.0.5   \n",
      "1       41836    172.16.0.5-192.168.50.1-572-60094-17  172.16.0.5   \n",
      "2        2695    172.16.0.5-192.168.50.1-676-43803-17  172.16.0.5   \n",
      "3      103799  172.16.0.5-192.168.50.1-62478-10715-17  172.16.0.5   \n",
      "4      121183  172.16.0.5-192.168.50.1-35561-29716-17  172.16.0.5   \n",
      "\n",
      "   Source Port Destination IP  Destination Port  Protocol  \\\n",
      "0         1011   192.168.50.1             30217        17   \n",
      "1          572   192.168.50.1             60094        17   \n",
      "2          676   192.168.50.1             43803        17   \n",
      "3        62478   192.168.50.1             10715        17   \n",
      "4        35561   192.168.50.1             29716        17   \n",
      "\n",
      "                    Timestamp  Flow Duration  Total Fwd Packets  ...  \\\n",
      "0  2018-12-01 11:24:50.037167              1                  2  ...   \n",
      "1  2018-12-01 12:14:22.545861              2                  2  ...   \n",
      "2  2018-12-01 10:38:56.749612            203                 52  ...   \n",
      "3  2018-12-01 13:49:26.909740              0                  2  ...   \n",
      "4  2018-12-01 13:04:38.438546         104757                  4  ...   \n",
      "\n",
      "   Active Std  Active Max  Active Min  Idle Mean  Idle Std  Idle Max  \\\n",
      "0         0.0         0.0         0.0        0.0       0.0       0.0   \n",
      "1         0.0         0.0         0.0        0.0       0.0       0.0   \n",
      "2         0.0         0.0         0.0        0.0       0.0       0.0   \n",
      "3         0.0         0.0         0.0        0.0       0.0       0.0   \n",
      "4         0.0         0.0         0.0        0.0       0.0       0.0   \n",
      "\n",
      "   Idle Min  SimillarHTTP  Inbound       Label  \n",
      "0       0.0             0        1  DrDoS_LDAP  \n",
      "1       0.0             0        1  DrDoS_SNMP  \n",
      "2       0.0             0        1   DrDoS_NTP  \n",
      "3       0.0             0        1        TFTP  \n",
      "4       0.0             0        1   DrDoS_UDP  \n",
      "\n",
      "[5 rows x 88 columns]\n",
      "\n",
      "Verifying null values after cleaning:\n",
      "0\n"
     ]
    }
   ],
   "source": [
    "import pandas as pd\n",
    "import numpy as np\n",
    "\n",
    "# Assuming your dataframe is named 'data'\n",
    "\n",
    "# Check for null values\n",
    "null_counts = data.isnull().sum()\n",
    "total_null = null_counts.sum()\n",
    "\n",
    "print(\"Columns with null values:\")\n",
    "print(null_counts[null_counts > 0])\n",
    "print(f\"\\nTotal number of null values: {total_null}\")\n",
    "\n",
    "# Calculate percentage of null values\n",
    "null_percentage = (null_counts / len(data)) * 100\n",
    "\n",
    "print(\"\\nPercentage of null values in each column:\")\n",
    "print(null_percentage[null_percentage > 0])\n",
    "\n",
    "# Remove rows with null values\n",
    "data_cleaned = data.dropna()\n",
    "\n",
    "# Print information about the cleaning process\n",
    "rows_removed = len(data) - len(data_cleaned)\n",
    "print(f\"\\nRows removed: {rows_removed}\")\n",
    "print(f\"Percentage of data removed: {(rows_removed / len(data)) * 100:.2f}%\")\n",
    "\n",
    "# Update the original dataframe\n",
    "data = data_cleaned\n",
    "\n",
    "print(f\"\\nShape of dataframe after removing null values: {data.shape}\")\n",
    "\n",
    "# Display the first few rows of the cleaned dataframe\n",
    "print(\"\\nFirst few rows of the cleaned dataframe:\")\n",
    "print(data.head())\n",
    "\n",
    "# Verify that there are no more null values\n",
    "print(\"\\nVerifying null values after cleaning:\")\n",
    "print(data.isnull().sum().sum())"
   ]
  },
  {
   "cell_type": "code",
   "execution_count": 56,
   "metadata": {},
   "outputs": [
    {
     "name": "stdout",
     "output_type": "stream",
     "text": [
      "Index(['Unnamed: 0', 'Flow ID', 'Source IP', 'Source Port', 'Destination IP',\n",
      "       'Destination Port', 'Protocol', 'Timestamp', 'Flow Duration',\n",
      "       'Total Fwd Packets', 'Total Backward Packets',\n",
      "       'Total Length of Fwd Packets', 'Total Length of Bwd Packets',\n",
      "       'Fwd Packet Length Max', 'Fwd Packet Length Min',\n",
      "       'Fwd Packet Length Mean', 'Fwd Packet Length Std',\n",
      "       'Bwd Packet Length Max', 'Bwd Packet Length Min',\n",
      "       'Bwd Packet Length Mean', 'Bwd Packet Length Std', 'Flow Bytes/s',\n",
      "       'Flow Packets/s', 'Flow IAT Mean', 'Flow IAT Std', 'Flow IAT Max',\n",
      "       'Flow IAT Min', 'Fwd IAT Total', 'Fwd IAT Mean', 'Fwd IAT Std',\n",
      "       'Fwd IAT Max', 'Fwd IAT Min', 'Bwd IAT Total', 'Bwd IAT Mean',\n",
      "       'Bwd IAT Std', 'Bwd IAT Max', 'Bwd IAT Min', 'Fwd PSH Flags',\n",
      "       'Bwd PSH Flags', 'Fwd URG Flags', 'Bwd URG Flags', 'Fwd Header Length',\n",
      "       'Bwd Header Length', 'Fwd Packets/s', 'Bwd Packets/s',\n",
      "       'Min Packet Length', 'Max Packet Length', 'Packet Length Mean',\n",
      "       'Packet Length Std', 'Packet Length Variance', 'FIN Flag Count',\n",
      "       'SYN Flag Count', 'RST Flag Count', 'PSH Flag Count', 'ACK Flag Count',\n",
      "       'URG Flag Count', 'CWE Flag Count', 'ECE Flag Count', 'Down/Up Ratio',\n",
      "       'Average Packet Size', 'Avg Fwd Segment Size', 'Avg Bwd Segment Size',\n",
      "       'Fwd Header Length.1', 'Fwd Avg Bytes/Bulk', 'Fwd Avg Packets/Bulk',\n",
      "       'Fwd Avg Bulk Rate', 'Bwd Avg Bytes/Bulk', 'Bwd Avg Packets/Bulk',\n",
      "       'Bwd Avg Bulk Rate', 'Subflow Fwd Packets', 'Subflow Fwd Bytes',\n",
      "       'Subflow Bwd Packets', 'Subflow Bwd Bytes', 'Init_Win_bytes_forward',\n",
      "       'Init_Win_bytes_backward', 'act_data_pkt_fwd', 'min_seg_size_forward',\n",
      "       'Active Mean', 'Active Std', 'Active Max', 'Active Min', 'Idle Mean',\n",
      "       'Idle Std', 'Idle Max', 'Idle Min', 'SimillarHTTP', 'Inbound', 'Label'],\n",
      "      dtype='object')\n"
     ]
    }
   ],
   "source": [
    "print(data.columns)"
   ]
  },
  {
   "cell_type": "markdown",
   "metadata": {},
   "source": [
    "##### Removing socket features"
   ]
  },
  {
   "cell_type": "code",
   "execution_count": 57,
   "metadata": {},
   "outputs": [],
   "source": [
    "features_to_remove = [\n",
    "    'Unnamed: 0',  # This seems to be an index column\n",
    "    'Flow ID',     # Unique identifier, not useful for prediction\n",
    "    'Source IP',   # Specific network identifiers, not generalizable\n",
    "    'Destination IP',\n",
    "    'Timestamp',   # Time-specific information, may not be generalizable\n",
    "    'SimillarHTTP', # Possibly misspelled, unclear relevance\n",
    "    'Source Port',\n",
    "    'Destination Port'\n",
    "]\n",
    "\n",
    "data = data.drop(columns=features_to_remove)"
   ]
  },
  {
   "cell_type": "code",
   "execution_count": 58,
   "metadata": {},
   "outputs": [
    {
     "name": "stdout",
     "output_type": "stream",
     "text": [
      "<class 'pandas.core.frame.DataFrame'>\n",
      "Index: 3325882 entries, 0 to 3391693\n",
      "Data columns (total 80 columns):\n",
      " #   Column                       Dtype  \n",
      "---  ------                       -----  \n",
      " 0   Protocol                     int64  \n",
      " 1   Flow Duration                int64  \n",
      " 2   Total Fwd Packets            int64  \n",
      " 3   Total Backward Packets       int64  \n",
      " 4   Total Length of Fwd Packets  float64\n",
      " 5   Total Length of Bwd Packets  float64\n",
      " 6   Fwd Packet Length Max        float64\n",
      " 7   Fwd Packet Length Min        float64\n",
      " 8   Fwd Packet Length Mean       float64\n",
      " 9   Fwd Packet Length Std        float64\n",
      " 10  Bwd Packet Length Max        float64\n",
      " 11  Bwd Packet Length Min        float64\n",
      " 12  Bwd Packet Length Mean       float64\n",
      " 13  Bwd Packet Length Std        float64\n",
      " 14  Flow Bytes/s                 float64\n",
      " 15  Flow Packets/s               float64\n",
      " 16  Flow IAT Mean                float64\n",
      " 17  Flow IAT Std                 float64\n",
      " 18  Flow IAT Max                 float64\n",
      " 19  Flow IAT Min                 float64\n",
      " 20  Fwd IAT Total                float64\n",
      " 21  Fwd IAT Mean                 float64\n",
      " 22  Fwd IAT Std                  float64\n",
      " 23  Fwd IAT Max                  float64\n",
      " 24  Fwd IAT Min                  float64\n",
      " 25  Bwd IAT Total                float64\n",
      " 26  Bwd IAT Mean                 float64\n",
      " 27  Bwd IAT Std                  float64\n",
      " 28  Bwd IAT Max                  float64\n",
      " 29  Bwd IAT Min                  float64\n",
      " 30  Fwd PSH Flags                int64  \n",
      " 31  Bwd PSH Flags                int64  \n",
      " 32  Fwd URG Flags                int64  \n",
      " 33  Bwd URG Flags                int64  \n",
      " 34  Fwd Header Length            int64  \n",
      " 35  Bwd Header Length            int64  \n",
      " 36  Fwd Packets/s                float64\n",
      " 37  Bwd Packets/s                float64\n",
      " 38  Min Packet Length            float64\n",
      " 39  Max Packet Length            float64\n",
      " 40  Packet Length Mean           float64\n",
      " 41  Packet Length Std            float64\n",
      " 42  Packet Length Variance       float64\n",
      " 43  FIN Flag Count               int64  \n",
      " 44  SYN Flag Count               int64  \n",
      " 45  RST Flag Count               int64  \n",
      " 46  PSH Flag Count               int64  \n",
      " 47  ACK Flag Count               int64  \n",
      " 48  URG Flag Count               int64  \n",
      " 49  CWE Flag Count               int64  \n",
      " 50  ECE Flag Count               int64  \n",
      " 51  Down/Up Ratio                float64\n",
      " 52  Average Packet Size          float64\n",
      " 53  Avg Fwd Segment Size         float64\n",
      " 54  Avg Bwd Segment Size         float64\n",
      " 55  Fwd Header Length.1          int64  \n",
      " 56  Fwd Avg Bytes/Bulk           int64  \n",
      " 57  Fwd Avg Packets/Bulk         int64  \n",
      " 58  Fwd Avg Bulk Rate            int64  \n",
      " 59  Bwd Avg Bytes/Bulk           int64  \n",
      " 60  Bwd Avg Packets/Bulk         int64  \n",
      " 61  Bwd Avg Bulk Rate            int64  \n",
      " 62  Subflow Fwd Packets          int64  \n",
      " 63  Subflow Fwd Bytes            int64  \n",
      " 64  Subflow Bwd Packets          int64  \n",
      " 65  Subflow Bwd Bytes            int64  \n",
      " 66  Init_Win_bytes_forward       int64  \n",
      " 67  Init_Win_bytes_backward      int64  \n",
      " 68  act_data_pkt_fwd             int64  \n",
      " 69  min_seg_size_forward         int64  \n",
      " 70  Active Mean                  float64\n",
      " 71  Active Std                   float64\n",
      " 72  Active Max                   float64\n",
      " 73  Active Min                   float64\n",
      " 74  Idle Mean                    float64\n",
      " 75  Idle Std                     float64\n",
      " 76  Idle Max                     float64\n",
      " 77  Idle Min                     float64\n",
      " 78  Inbound                      int64  \n",
      " 79  Label                        object \n",
      "dtypes: float64(45), int64(34), object(1)\n",
      "memory usage: 2.0+ GB\n"
     ]
    }
   ],
   "source": [
    "data.info()"
   ]
  },
  {
   "cell_type": "code",
   "execution_count": 59,
   "metadata": {},
   "outputs": [
    {
     "data": {
      "text/plain": [
       "array(['DrDoS_LDAP', 'DrDoS_SNMP', 'DrDoS_NTP', 'TFTP', 'DrDoS_UDP',\n",
       "       'DrDoS_DNS', 'DrDoS_MSSQL', 'DrDoS_SSDP', 'Syn', 'UDP-lag',\n",
       "       'Portmap', 'DrDoS_NetBIOS', 'BENIGN', 'WebDDoS'], dtype=object)"
      ]
     },
     "execution_count": 59,
     "metadata": {},
     "output_type": "execute_result"
    }
   ],
   "source": [
    "data['Label'].unique()"
   ]
  },
  {
   "cell_type": "code",
   "execution_count": 60,
   "metadata": {},
   "outputs": [
    {
     "name": "stdout",
     "output_type": "stream",
     "text": [
      "BinaryLabel\n",
      "1    0.982044\n",
      "0    0.017956\n",
      "Name: proportion, dtype: float64\n"
     ]
    }
   ],
   "source": [
    "# Create binary labels\n",
    "data['BinaryLabel'] = (data['Label'] != 'BENIGN').astype(int)\n",
    "\n",
    "# Print the distribution\n",
    "print(data['BinaryLabel'].value_counts(normalize=True))"
   ]
  },
  {
   "cell_type": "code",
   "execution_count": 61,
   "metadata": {},
   "outputs": [
    {
     "name": "stdout",
     "output_type": "stream",
     "text": [
      "<class 'pandas.core.frame.DataFrame'>\n",
      "Index: 3325882 entries, 0 to 3391693\n",
      "Data columns (total 81 columns):\n",
      " #   Column                       Dtype  \n",
      "---  ------                       -----  \n",
      " 0   Protocol                     int64  \n",
      " 1   Flow Duration                int64  \n",
      " 2   Total Fwd Packets            int64  \n",
      " 3   Total Backward Packets       int64  \n",
      " 4   Total Length of Fwd Packets  float64\n",
      " 5   Total Length of Bwd Packets  float64\n",
      " 6   Fwd Packet Length Max        float64\n",
      " 7   Fwd Packet Length Min        float64\n",
      " 8   Fwd Packet Length Mean       float64\n",
      " 9   Fwd Packet Length Std        float64\n",
      " 10  Bwd Packet Length Max        float64\n",
      " 11  Bwd Packet Length Min        float64\n",
      " 12  Bwd Packet Length Mean       float64\n",
      " 13  Bwd Packet Length Std        float64\n",
      " 14  Flow Bytes/s                 float64\n",
      " 15  Flow Packets/s               float64\n",
      " 16  Flow IAT Mean                float64\n",
      " 17  Flow IAT Std                 float64\n",
      " 18  Flow IAT Max                 float64\n",
      " 19  Flow IAT Min                 float64\n",
      " 20  Fwd IAT Total                float64\n",
      " 21  Fwd IAT Mean                 float64\n",
      " 22  Fwd IAT Std                  float64\n",
      " 23  Fwd IAT Max                  float64\n",
      " 24  Fwd IAT Min                  float64\n",
      " 25  Bwd IAT Total                float64\n",
      " 26  Bwd IAT Mean                 float64\n",
      " 27  Bwd IAT Std                  float64\n",
      " 28  Bwd IAT Max                  float64\n",
      " 29  Bwd IAT Min                  float64\n",
      " 30  Fwd PSH Flags                int64  \n",
      " 31  Bwd PSH Flags                int64  \n",
      " 32  Fwd URG Flags                int64  \n",
      " 33  Bwd URG Flags                int64  \n",
      " 34  Fwd Header Length            int64  \n",
      " 35  Bwd Header Length            int64  \n",
      " 36  Fwd Packets/s                float64\n",
      " 37  Bwd Packets/s                float64\n",
      " 38  Min Packet Length            float64\n",
      " 39  Max Packet Length            float64\n",
      " 40  Packet Length Mean           float64\n",
      " 41  Packet Length Std            float64\n",
      " 42  Packet Length Variance       float64\n",
      " 43  FIN Flag Count               int64  \n",
      " 44  SYN Flag Count               int64  \n",
      " 45  RST Flag Count               int64  \n",
      " 46  PSH Flag Count               int64  \n",
      " 47  ACK Flag Count               int64  \n",
      " 48  URG Flag Count               int64  \n",
      " 49  CWE Flag Count               int64  \n",
      " 50  ECE Flag Count               int64  \n",
      " 51  Down/Up Ratio                float64\n",
      " 52  Average Packet Size          float64\n",
      " 53  Avg Fwd Segment Size         float64\n",
      " 54  Avg Bwd Segment Size         float64\n",
      " 55  Fwd Header Length.1          int64  \n",
      " 56  Fwd Avg Bytes/Bulk           int64  \n",
      " 57  Fwd Avg Packets/Bulk         int64  \n",
      " 58  Fwd Avg Bulk Rate            int64  \n",
      " 59  Bwd Avg Bytes/Bulk           int64  \n",
      " 60  Bwd Avg Packets/Bulk         int64  \n",
      " 61  Bwd Avg Bulk Rate            int64  \n",
      " 62  Subflow Fwd Packets          int64  \n",
      " 63  Subflow Fwd Bytes            int64  \n",
      " 64  Subflow Bwd Packets          int64  \n",
      " 65  Subflow Bwd Bytes            int64  \n",
      " 66  Init_Win_bytes_forward       int64  \n",
      " 67  Init_Win_bytes_backward      int64  \n",
      " 68  act_data_pkt_fwd             int64  \n",
      " 69  min_seg_size_forward         int64  \n",
      " 70  Active Mean                  float64\n",
      " 71  Active Std                   float64\n",
      " 72  Active Max                   float64\n",
      " 73  Active Min                   float64\n",
      " 74  Idle Mean                    float64\n",
      " 75  Idle Std                     float64\n",
      " 76  Idle Max                     float64\n",
      " 77  Idle Min                     float64\n",
      " 78  Inbound                      int64  \n",
      " 79  Label                        object \n",
      " 80  BinaryLabel                  int32  \n",
      "dtypes: float64(45), int32(1), int64(34), object(1)\n",
      "memory usage: 2.0+ GB\n"
     ]
    }
   ],
   "source": [
    "data.info()"
   ]
  },
  {
   "cell_type": "code",
   "execution_count": 62,
   "metadata": {},
   "outputs": [
    {
     "name": "stdout",
     "output_type": "stream",
     "text": [
      "Original shape: (3325882, 81)\n",
      "Shape after removing NaN and infinity rows: (3266402, 81)\n"
     ]
    }
   ],
   "source": [
    "# Remove rows with NaN or infinity values\n",
    "data_cleaned = data.replace([np.inf, -np.inf], np.nan).dropna()\n",
    "\n",
    "print(f\"Original shape: {data.shape}\")\n",
    "print(f\"Shape after removing NaN and infinity rows: {data_cleaned.shape}\")"
   ]
  },
  {
   "cell_type": "code",
   "execution_count": 63,
   "metadata": {},
   "outputs": [
    {
     "name": "stdout",
     "output_type": "stream",
     "text": [
      "Columns removed (containing only zeros): ['Bwd PSH Flags', 'Fwd URG Flags', 'Bwd URG Flags', 'FIN Flag Count', 'PSH Flag Count', 'ECE Flag Count', 'Fwd Avg Bytes/Bulk', 'Fwd Avg Packets/Bulk', 'Fwd Avg Bulk Rate', 'Bwd Avg Bytes/Bulk', 'Bwd Avg Packets/Bulk', 'Bwd Avg Bulk Rate']\n",
      "Shape after removing zero columns: (3266402, 69)\n"
     ]
    }
   ],
   "source": [
    "# Identify columns with only zeros\n",
    "zero_columns = data_cleaned.columns[(data_cleaned == 0).all()].tolist()\n",
    "\n",
    "# Remove these columns\n",
    "data_cleaned = data_cleaned.drop(columns=zero_columns)\n",
    "\n",
    "print(f\"Columns removed (containing only zeros): {zero_columns}\")\n",
    "print(f\"Shape after removing zero columns: {data_cleaned.shape}\")"
   ]
  },
  {
   "cell_type": "code",
   "execution_count": 64,
   "metadata": {},
   "outputs": [
    {
     "name": "stdout",
     "output_type": "stream",
     "text": [
      "<class 'pandas.core.frame.DataFrame'>\n",
      "Index: 3266402 entries, 0 to 3391693\n",
      "Data columns (total 69 columns):\n",
      " #   Column                       Dtype  \n",
      "---  ------                       -----  \n",
      " 0   Protocol                     int64  \n",
      " 1   Flow Duration                int64  \n",
      " 2   Total Fwd Packets            int64  \n",
      " 3   Total Backward Packets       int64  \n",
      " 4   Total Length of Fwd Packets  float64\n",
      " 5   Total Length of Bwd Packets  float64\n",
      " 6   Fwd Packet Length Max        float64\n",
      " 7   Fwd Packet Length Min        float64\n",
      " 8   Fwd Packet Length Mean       float64\n",
      " 9   Fwd Packet Length Std        float64\n",
      " 10  Bwd Packet Length Max        float64\n",
      " 11  Bwd Packet Length Min        float64\n",
      " 12  Bwd Packet Length Mean       float64\n",
      " 13  Bwd Packet Length Std        float64\n",
      " 14  Flow Bytes/s                 float64\n",
      " 15  Flow Packets/s               float64\n",
      " 16  Flow IAT Mean                float64\n",
      " 17  Flow IAT Std                 float64\n",
      " 18  Flow IAT Max                 float64\n",
      " 19  Flow IAT Min                 float64\n",
      " 20  Fwd IAT Total                float64\n",
      " 21  Fwd IAT Mean                 float64\n",
      " 22  Fwd IAT Std                  float64\n",
      " 23  Fwd IAT Max                  float64\n",
      " 24  Fwd IAT Min                  float64\n",
      " 25  Bwd IAT Total                float64\n",
      " 26  Bwd IAT Mean                 float64\n",
      " 27  Bwd IAT Std                  float64\n",
      " 28  Bwd IAT Max                  float64\n",
      " 29  Bwd IAT Min                  float64\n",
      " 30  Fwd PSH Flags                int64  \n",
      " 31  Fwd Header Length            int64  \n",
      " 32  Bwd Header Length            int64  \n",
      " 33  Fwd Packets/s                float64\n",
      " 34  Bwd Packets/s                float64\n",
      " 35  Min Packet Length            float64\n",
      " 36  Max Packet Length            float64\n",
      " 37  Packet Length Mean           float64\n",
      " 38  Packet Length Std            float64\n",
      " 39  Packet Length Variance       float64\n",
      " 40  SYN Flag Count               int64  \n",
      " 41  RST Flag Count               int64  \n",
      " 42  ACK Flag Count               int64  \n",
      " 43  URG Flag Count               int64  \n",
      " 44  CWE Flag Count               int64  \n",
      " 45  Down/Up Ratio                float64\n",
      " 46  Average Packet Size          float64\n",
      " 47  Avg Fwd Segment Size         float64\n",
      " 48  Avg Bwd Segment Size         float64\n",
      " 49  Fwd Header Length.1          int64  \n",
      " 50  Subflow Fwd Packets          int64  \n",
      " 51  Subflow Fwd Bytes            int64  \n",
      " 52  Subflow Bwd Packets          int64  \n",
      " 53  Subflow Bwd Bytes            int64  \n",
      " 54  Init_Win_bytes_forward       int64  \n",
      " 55  Init_Win_bytes_backward      int64  \n",
      " 56  act_data_pkt_fwd             int64  \n",
      " 57  min_seg_size_forward         int64  \n",
      " 58  Active Mean                  float64\n",
      " 59  Active Std                   float64\n",
      " 60  Active Max                   float64\n",
      " 61  Active Min                   float64\n",
      " 62  Idle Mean                    float64\n",
      " 63  Idle Std                     float64\n",
      " 64  Idle Max                     float64\n",
      " 65  Idle Min                     float64\n",
      " 66  Inbound                      int64  \n",
      " 67  Label                        object \n",
      " 68  BinaryLabel                  int32  \n",
      "dtypes: float64(45), int32(1), int64(22), object(1)\n",
      "memory usage: 1.7+ GB\n"
     ]
    }
   ],
   "source": [
    "data_cleaned.info()"
   ]
  },
  {
   "cell_type": "code",
   "execution_count": 65,
   "metadata": {},
   "outputs": [
    {
     "name": "stdout",
     "output_type": "stream",
     "text": [
      "\n",
      "Selected features: ['Flow Packets/s', 'Fwd Packets/s', 'Max Packet Length', 'Packet Length Mean', 'Avg Fwd Segment Size', 'Fwd Packet Length Mean', 'Average Packet Size', 'Fwd Packet Length Max', 'Inbound', 'Protocol', 'Fwd Packet Length Min', 'Min Packet Length', 'Flow Bytes/s', 'Init_Win_bytes_forward', 'Total Length of Fwd Packets', 'Subflow Fwd Bytes', 'Bwd Packets/s', 'Flow IAT Mean', 'Flow IAT Max', 'Flow IAT Std', 'Flow Duration', 'Packet Length Std', 'Packet Length Variance', 'Bwd IAT Max', 'Bwd IAT Total', 'Bwd IAT Mean', 'Bwd Header Length', 'Subflow Bwd Packets', 'Total Backward Packets', 'Bwd IAT Min', 'BinaryLabel']\n"
     ]
    }
   ],
   "source": [
    "from sklearn.feature_selection import mutual_info_classif\n",
    "\n",
    "# Prepare features and target\n",
    "X = data_cleaned.drop(['Label', 'BinaryLabel'], axis=1)\n",
    "y_binary = data_cleaned['BinaryLabel']\n",
    "\n",
    "# Calculate mutual information\n",
    "mi_scores = mutual_info_classif(X, y_binary)\n",
    "\n",
    "# Create a dataframe of features and their mutual information scores\n",
    "mi_df = pd.DataFrame({'feature': X.columns, 'mi_score': mi_scores})\n",
    "mi_df = mi_df.sort_values('mi_score', ascending=False)\n",
    "\n",
    "# Select top 30 features (you can adjust this number)\n",
    "top_features = mi_df['feature'][:30].tolist()\n",
    "\n",
    "# Create a new dataframe with selected features and binary label\n",
    "selected_features = top_features + ['BinaryLabel']\n",
    "data_selected = data_cleaned[selected_features]\n",
    "\n",
    "print(\"\\nSelected features:\", selected_features)"
   ]
  },
  {
   "cell_type": "code",
   "execution_count": 66,
   "metadata": {},
   "outputs": [],
   "source": [
    "from sklearn.preprocessing import StandardScaler\n",
    "\n",
    "# Separate features and target\n",
    "X = data_selected.drop('BinaryLabel', axis=1)\n",
    "y = data_selected['BinaryLabel']\n",
    "\n",
    "# Scale the features\n",
    "scaler = StandardScaler()\n",
    "X_scaled = scaler.fit_transform(X)\n",
    "\n",
    "# Create a new dataframe with scaled features\n",
    "X_scaled_df = pd.DataFrame(X_scaled, columns=X.columns)"
   ]
  },
  {
   "cell_type": "code",
   "execution_count": 67,
   "metadata": {},
   "outputs": [
    {
     "name": "stdout",
     "output_type": "stream",
     "text": [
      "\n",
      "Data split sizes:\n",
      "Training set: (1959840, 30)\n",
      "Testing set: (653281, 30)\n",
      "Simulation set: (653281, 30)\n"
     ]
    }
   ],
   "source": [
    "from sklearn.model_selection import train_test_split\n",
    "\n",
    "# First, split into training+testing and simulation sets\n",
    "X_train_test, X_simulation, y_train_test, y_simulation = train_test_split(\n",
    "    X_scaled_df, y, test_size=0.2, stratify=y, random_state=42\n",
    ")\n",
    "\n",
    "# Then split training+testing into separate training and testing sets\n",
    "X_train, X_test, y_train, y_test = train_test_split(\n",
    "    X_train_test, y_train_test, test_size=0.25, stratify=y_train_test, random_state=42\n",
    ")\n",
    "\n",
    "print(\"\\nData split sizes:\")\n",
    "print(f\"Training set: {X_train.shape}\")\n",
    "print(f\"Testing set: {X_test.shape}\")\n",
    "print(f\"Simulation set: {X_simulation.shape}\")"
   ]
  },
  {
   "cell_type": "code",
   "execution_count": 68,
   "metadata": {},
   "outputs": [
    {
     "name": "stdout",
     "output_type": "stream",
     "text": [
      "\n",
      "Processed data saved to CSV files.\n"
     ]
    }
   ],
   "source": [
    "import joblib\n",
    "\n",
    "# Save the scaler for later use\n",
    "joblib.dump(scaler, 'scaler.joblib')\n",
    "\n",
    "# Save the datasets\n",
    "X_train.to_csv('X_train_binary.csv', index=False)\n",
    "y_train.to_csv('y_train_binary.csv', index=False)\n",
    "X_test.to_csv('X_test_binary.csv', index=False)\n",
    "y_test.to_csv('y_test_binary.csv', index=False)\n",
    "X_simulation.to_csv('X_simulation_binary.csv', index=False)\n",
    "y_simulation.to_csv('y_simulation_binary.csv', index=False)\n",
    "\n",
    "print(\"\\nProcessed data saved to CSV files.\")"
   ]
  },
  {
   "cell_type": "code",
   "execution_count": 1,
   "metadata": {},
   "outputs": [
    {
     "name": "stdout",
     "output_type": "stream",
     "text": [
      "WARNING:tensorflow:From c:\\Users\\Eric\\anaconda3\\envs\\notebook_env\\Lib\\site-packages\\keras\\src\\losses.py:2976: The name tf.losses.sparse_softmax_cross_entropy is deprecated. Please use tf.compat.v1.losses.sparse_softmax_cross_entropy instead.\n",
      "\n"
     ]
    }
   ],
   "source": [
    "import numpy as np\n",
    "import pandas as pd\n",
    "from sklearn.model_selection import train_test_split\n",
    "from sklearn.preprocessing import StandardScaler\n",
    "from tensorflow.keras.models import Sequential\n",
    "from tensorflow.keras.layers import LSTM, Dense, Dropout\n",
    "from tensorflow.keras.optimizers import Adam\n",
    "from tensorflow.keras.callbacks import EarlyStopping"
   ]
  },
  {
   "cell_type": "code",
   "execution_count": 2,
   "metadata": {},
   "outputs": [
    {
     "name": "stdout",
     "output_type": "stream",
     "text": [
      "Training data shape: (1959840, 1, 30)\n",
      "Testing data shape: (653281, 1, 30)\n"
     ]
    }
   ],
   "source": [
    "# Load the data\n",
    "X_train = pd.read_csv('data/x_y/X_train_binary.csv')\n",
    "y_train = pd.read_csv('data/x_y/y_train_binary.csv')\n",
    "X_test = pd.read_csv('data/x_y/X_test_binary.csv')\n",
    "y_test = pd.read_csv('data/x_y/y_test_binary.csv')\n",
    "\n",
    "# Reshape input to be 3D [samples, time steps, features] for LSTM\n",
    "X_train = X_train.values.reshape((X_train.shape[0], 1, X_train.shape[1]))\n",
    "X_test = X_test.values.reshape((X_test.shape[0], 1, X_test.shape[1]))\n",
    "\n",
    "print(\"Training data shape:\", X_train.shape)\n",
    "print(\"Testing data shape:\", X_test.shape)"
   ]
  },
  {
   "cell_type": "code",
   "execution_count": 3,
   "metadata": {},
   "outputs": [
    {
     "name": "stdout",
     "output_type": "stream",
     "text": [
      "WARNING:tensorflow:From c:\\Users\\Eric\\anaconda3\\envs\\notebook_env\\Lib\\site-packages\\keras\\src\\layers\\rnn\\lstm.py:148: The name tf.executing_eagerly_outside_functions is deprecated. Please use tf.compat.v1.executing_eagerly_outside_functions instead.\n",
      "\n",
      "Model: \"sequential\"\n",
      "_________________________________________________________________\n",
      " Layer (type)                Output Shape              Param #   \n",
      "=================================================================\n",
      " lstm (LSTM)                 (None, 1, 64)             24320     \n",
      "                                                                 \n",
      " dropout (Dropout)           (None, 1, 64)             0         \n",
      "                                                                 \n",
      " lstm_1 (LSTM)               (None, 32)                12416     \n",
      "                                                                 \n",
      " dropout_1 (Dropout)         (None, 32)                0         \n",
      "                                                                 \n",
      " dense (Dense)               (None, 16)                528       \n",
      "                                                                 \n",
      " dense_1 (Dense)             (None, 1)                 17        \n",
      "                                                                 \n",
      "=================================================================\n",
      "Total params: 37281 (145.63 KB)\n",
      "Trainable params: 37281 (145.63 KB)\n",
      "Non-trainable params: 0 (0.00 Byte)\n",
      "_________________________________________________________________\n"
     ]
    }
   ],
   "source": [
    "def create_lstm_model(input_shape):\n",
    "    model = Sequential([\n",
    "        LSTM(64, input_shape=input_shape, return_sequences=True),\n",
    "        Dropout(0.2),\n",
    "        LSTM(32),\n",
    "        Dropout(0.2),\n",
    "        Dense(16, activation='relu'),\n",
    "        Dense(1, activation='sigmoid')\n",
    "    ])\n",
    "    return model\n",
    "\n",
    "# Create the model\n",
    "model = create_lstm_model((X_train.shape[1], X_train.shape[2]))\n",
    "\n",
    "# Compile the model\n",
    "model.compile(optimizer=Adam(learning_rate=0.001),\n",
    "              loss='binary_crossentropy',\n",
    "              metrics=['accuracy'])\n",
    "\n",
    "# Print model summary\n",
    "model.summary()"
   ]
  },
  {
   "cell_type": "code",
   "execution_count": 4,
   "metadata": {},
   "outputs": [
    {
     "name": "stdout",
     "output_type": "stream",
     "text": [
      "Epoch 1/50\n",
      "WARNING:tensorflow:From c:\\Users\\Eric\\anaconda3\\envs\\notebook_env\\Lib\\site-packages\\keras\\src\\utils\\tf_utils.py:492: The name tf.ragged.RaggedTensorValue is deprecated. Please use tf.compat.v1.ragged.RaggedTensorValue instead.\n",
      "\n",
      "WARNING:tensorflow:From c:\\Users\\Eric\\anaconda3\\envs\\notebook_env\\Lib\\site-packages\\keras\\src\\engine\\base_layer_utils.py:384: The name tf.executing_eagerly_outside_functions is deprecated. Please use tf.compat.v1.executing_eagerly_outside_functions instead.\n",
      "\n",
      "48996/48996 [==============================] - 124s 2ms/step - loss: 0.0043 - accuracy: 0.9991 - val_loss: 0.0024 - val_accuracy: 0.9994\n",
      "Epoch 2/50\n",
      "48996/48996 [==============================] - 124s 3ms/step - loss: 0.0022 - accuracy: 0.9995 - val_loss: 0.0018 - val_accuracy: 0.9996\n",
      "Epoch 3/50\n",
      "48996/48996 [==============================] - 125s 3ms/step - loss: 0.0018 - accuracy: 0.9996 - val_loss: 0.0017 - val_accuracy: 0.9995\n",
      "Epoch 4/50\n",
      "48996/48996 [==============================] - 124s 3ms/step - loss: 0.0017 - accuracy: 0.9996 - val_loss: 0.0016 - val_accuracy: 0.9996\n",
      "Epoch 5/50\n",
      "48996/48996 [==============================] - 124s 3ms/step - loss: 0.0016 - accuracy: 0.9996 - val_loss: 0.0016 - val_accuracy: 0.9996\n",
      "Epoch 6/50\n",
      "48996/48996 [==============================] - 124s 3ms/step - loss: 0.0015 - accuracy: 0.9996 - val_loss: 0.0013 - val_accuracy: 0.9997\n",
      "Epoch 7/50\n",
      "48996/48996 [==============================] - 137s 3ms/step - loss: 0.0015 - accuracy: 0.9996 - val_loss: 0.0014 - val_accuracy: 0.9997\n",
      "Epoch 8/50\n",
      "48996/48996 [==============================] - 122s 2ms/step - loss: 0.0014 - accuracy: 0.9997 - val_loss: 0.0016 - val_accuracy: 0.9996\n",
      "Epoch 9/50\n",
      "48996/48996 [==============================] - 125s 3ms/step - loss: 0.0014 - accuracy: 0.9997 - val_loss: 0.0014 - val_accuracy: 0.9997\n",
      "Epoch 10/50\n",
      "48996/48996 [==============================] - 126s 3ms/step - loss: 0.0014 - accuracy: 0.9997 - val_loss: 0.0015 - val_accuracy: 0.9997\n",
      "Epoch 11/50\n",
      "48996/48996 [==============================] - 130s 3ms/step - loss: 0.0014 - accuracy: 0.9997 - val_loss: 0.0012 - val_accuracy: 0.9997\n",
      "Epoch 12/50\n",
      "48996/48996 [==============================] - 126s 3ms/step - loss: 0.0014 - accuracy: 0.9997 - val_loss: 0.0013 - val_accuracy: 0.9997\n",
      "Epoch 13/50\n",
      "48996/48996 [==============================] - 125s 3ms/step - loss: 0.0014 - accuracy: 0.9997 - val_loss: 0.0013 - val_accuracy: 0.9997\n",
      "Epoch 14/50\n",
      "48996/48996 [==============================] - 139s 3ms/step - loss: 0.0013 - accuracy: 0.9997 - val_loss: 0.0013 - val_accuracy: 0.9997\n",
      "Epoch 15/50\n",
      "48996/48996 [==============================] - 153s 3ms/step - loss: 0.0013 - accuracy: 0.9997 - val_loss: 0.0014 - val_accuracy: 0.9997\n",
      "Epoch 16/50\n",
      "48996/48996 [==============================] - 127s 3ms/step - loss: 0.0013 - accuracy: 0.9997 - val_loss: 0.0014 - val_accuracy: 0.9997\n"
     ]
    }
   ],
   "source": [
    "# Define early stopping\n",
    "early_stopping = EarlyStopping(monitor='val_loss', patience=5, restore_best_weights=True)\n",
    "\n",
    "# Train the model\n",
    "history = model.fit(X_train, y_train,\n",
    "                    epochs=50,\n",
    "                    batch_size=32,\n",
    "                    validation_split=0.2,\n",
    "                    callbacks=[early_stopping],\n",
    "                    verbose=1)"
   ]
  },
  {
   "cell_type": "code",
   "execution_count": 5,
   "metadata": {},
   "outputs": [
    {
     "name": "stdout",
     "output_type": "stream",
     "text": [
      "Test Loss: 0.0012\n",
      "Test Accuracy: 0.9997\n"
     ]
    }
   ],
   "source": [
    "# Evaluate the model on the test set\n",
    "loss, accuracy = model.evaluate(X_test, y_test, verbose=0)\n",
    "print(f\"Test Loss: {loss:.4f}\")\n",
    "print(f\"Test Accuracy: {accuracy:.4f}\")"
   ]
  },
  {
   "cell_type": "code",
   "execution_count": 6,
   "metadata": {},
   "outputs": [
    {
     "name": "stdout",
     "output_type": "stream",
     "text": [
      "20416/20416 [==============================] - 26s 1ms/step\n",
      "              precision    recall  f1-score   support\n",
      "\n",
      "           0       0.99      0.99      0.99     11874\n",
      "           1       1.00      1.00      1.00    641407\n",
      "\n",
      "    accuracy                           1.00    653281\n",
      "   macro avg       0.99      1.00      1.00    653281\n",
      "weighted avg       1.00      1.00      1.00    653281\n",
      "\n"
     ]
    }
   ],
   "source": [
    "# Make predictions\n",
    "y_pred = model.predict(X_test)\n",
    "y_pred_classes = (y_pred > 0.5).astype(int)\n",
    "\n",
    "# Print classification report\n",
    "from sklearn.metrics import classification_report\n",
    "print(classification_report(y_test, y_pred_classes))"
   ]
  },
  {
   "cell_type": "code",
   "execution_count": 7,
   "metadata": {},
   "outputs": [
    {
     "data": {
      "image/png": "[encoded data removed]",
      "text/plain": [
       "<Figure size 1200x400 with 2 Axes>"
      ]
     },
     "metadata": {},
     "output_type": "display_data"
    }
   ],
   "source": [
    "import matplotlib.pyplot as plt\n",
    "\n",
    "plt.figure(figsize=(12, 4))\n",
    "\n",
    "plt.subplot(121)\n",
    "plt.plot(history.history['accuracy'], label='Train Accuracy')\n",
    "plt.plot(history.history['val_accuracy'], label='Validation Accuracy')\n",
    "plt.title('Model Accuracy')\n",
    "plt.xlabel('Epoch')\n",
    "plt.ylabel('Accuracy')\n",
    "plt.legend()\n",
    "\n",
    "plt.subplot(122)\n",
    "plt.plot(history.history['loss'], label='Train Loss')\n",
    "plt.plot(history.history['val_loss'], label='Validation Loss')\n",
    "plt.title('Model Loss')\n",
    "plt.xlabel('Epoch')\n",
    "plt.ylabel('Loss')\n",
    "plt.legend()\n",
    "\n",
    "plt.tight_layout()\n",
    "plt.show()"
   ]
  },
  {
   "cell_type": "code",
   "execution_count": 8,
   "metadata": {},
   "outputs": [
    {
     "name": "stdout",
     "output_type": "stream",
     "text": [
      "True Negatives (TN): 11810\n",
      "False Positives (FP): 64\n",
      "False Negatives (FN): 133\n",
      "True Positives (TP): 641274\n",
      "\n",
      "Accuracy: 0.9997\n",
      "Precision: 0.9999\n",
      "Recall (Sensitivity): 0.9998\n",
      "Specificity: 0.9946\n",
      "F1-score: 0.9998\n"
     ]
    }
   ],
   "source": [
    "from sklearn.metrics import confusion_matrix\n",
    "import numpy as np\n",
    "\n",
    "# Assuming y_test and y_pred_classes are already defined\n",
    "cm = confusion_matrix(y_test, y_pred_classes)\n",
    "\n",
    "# Extract values from the confusion matrix\n",
    "tn, fp, fn, tp = cm.ravel()\n",
    "\n",
    "# Calculate additional metrics\n",
    "accuracy = (tp + tn) / (tp + tn + fp + fn)\n",
    "precision = tp / (tp + fp)\n",
    "recall = tp / (tp + fn)\n",
    "f1_score = 2 * (precision * recall) / (precision + recall)\n",
    "specificity = tn / (tn + fp)\n",
    "\n",
    "# Print results\n",
    "print(f\"True Negatives (TN): {tn}\")\n",
    "print(f\"False Positives (FP): {fp}\")\n",
    "print(f\"False Negatives (FN): {fn}\")\n",
    "print(f\"True Positives (TP): {tp}\")\n",
    "print(f\"\\nAccuracy: {accuracy:.4f}\")\n",
    "print(f\"Precision: {precision:.4f}\")\n",
    "print(f\"Recall (Sensitivity): {recall:.4f}\")\n",
    "print(f\"Specificity: {specificity:.4f}\")\n",
    "print(f\"F1-score: {f1_score:.4f}\")"
   ]
  },
  {
   "cell_type": "code",
   "execution_count": 9,
   "metadata": {},
   "outputs": [
    {
     "name": "stdout",
     "output_type": "stream",
     "text": [
      "INFO:tensorflow:Assets written to: ddos_detection_savedmodel\\assets\n"
     ]
    },
    {
     "name": "stderr",
     "output_type": "stream",
     "text": [
      "INFO:tensorflow:Assets written to: ddos_detection_savedmodel\\assets\n"
     ]
    },
    {
     "name": "stdout",
     "output_type": "stream",
     "text": [
      "Model saved in SavedModel format successfully.\n"
     ]
    }
   ],
   "source": [
    "import tensorflow as tf\n",
    "\n",
    "# Save the model in SavedModel format\n",
    "tf.saved_model.save(model, 'ddos_detection_savedmodel')\n",
    "\n",
    "print(\"Model saved in SavedModel format successfully.\")"
   ]
  },
  {
   "cell_type": "code",
   "execution_count": 10,
   "metadata": {},
   "outputs": [
    {
     "name": "stdout",
     "output_type": "stream",
     "text": [
      "Model saved successfully.\n"
     ]
    },
    {
     "name": "stderr",
     "output_type": "stream",
     "text": [
      "c:\\Users\\Eric\\anaconda3\\envs\\notebook_env\\Lib\\site-packages\\keras\\src\\engine\\training.py:3103: UserWarning: You are saving your model as an HDF5 file via `model.save()`. This file format is considered legacy. We recommend using instead the native Keras format, e.g. `model.save('my_model.keras')`.\n",
      "  saving_api.save_model(\n"
     ]
    }
   ],
   "source": [
    "# Save the entire model\n",
    "model.save('rnnlstmmodel.h5')\n",
    "\n",
    "print(\"Model saved successfully.\")"
   ]
  },
  {
   "cell_type": "code",
   "execution_count": 11,
   "metadata": {},
   "outputs": [
    {
     "name": "stdout",
     "output_type": "stream",
     "text": [
      "Model saved successfully.\n"
     ]
    }
   ],
   "source": [
    "# Save the entire model\n",
    "model.save('rnnlstmmodel.keras')\n",
    "\n",
    "print(\"Model saved successfully.\")"
   ]
  }
 ],
 "metadata": {
  "kernelspec": {
   "display_name": "notebook_env",
   "language": "python",
   "name": "python3"
  },
  "language_info": {
   "codemirror_mode": {
    "name": "ipython",
    "version": 3
   },
   "file_extension": ".py",
   "mimetype": "text/x-python",
   "name": "python",
   "nbconvert_exporter": "python",
   "pygments_lexer": "ipython3",
   "version": "3.11.5"
  }
 },
 "nbformat": 4,
 "nbformat_minor": 2
}
